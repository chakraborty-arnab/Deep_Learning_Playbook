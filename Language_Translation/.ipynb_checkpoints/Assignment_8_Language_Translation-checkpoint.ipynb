{
 "cells": [
  {
   "cell_type": "markdown",
   "id": "60f01d73",
   "metadata": {
    "id": "60f01d73"
   },
   "source": [
    "# Assignment 8 - Language Translation (English - Hindi)"
   ]
  },
  {
   "cell_type": "code",
   "execution_count": 1,
   "id": "fe09020e",
   "metadata": {
    "id": "fe09020e"
   },
   "outputs": [],
   "source": [
    "import matplotlib.pyplot as plt\n",
    "%matplotlib inline\n",
    "import pandas as pd\n",
    "import numpy as np\n",
    "import string\n",
    "from string import digits\n",
    "import tensorflow as tf\n",
    "import re\n",
    "from sklearn.utils import shuffle\n",
    "from sklearn.model_selection import train_test_split\n",
    "import time"
   ]
  },
  {
   "cell_type": "code",
   "execution_count": 2,
   "id": "22PwPG4scIZ8",
   "metadata": {
    "colab": {
     "base_uri": "https://localhost:8080/"
    },
    "id": "22PwPG4scIZ8",
    "outputId": "71a502e8-4727-4801-a4fe-8104c90ef652"
   },
   "outputs": [
    {
     "ename": "ModuleNotFoundError",
     "evalue": "No module named 'google.colab'",
     "output_type": "error",
     "traceback": [
      "\u001b[0;31m---------------------------------------------------------------------------\u001b[0m",
      "\u001b[0;31mModuleNotFoundError\u001b[0m                       Traceback (most recent call last)",
      "Cell \u001b[0;32mIn[2], line 1\u001b[0m\n\u001b[0;32m----> 1\u001b[0m \u001b[38;5;28;01mfrom\u001b[39;00m \u001b[38;5;21;01mgoogle\u001b[39;00m\u001b[38;5;21;01m.\u001b[39;00m\u001b[38;5;21;01mcolab\u001b[39;00m \u001b[38;5;28;01mimport\u001b[39;00m drive\n\u001b[1;32m      2\u001b[0m drive\u001b[38;5;241m.\u001b[39mmount(\u001b[38;5;124m'\u001b[39m\u001b[38;5;124m/content/drive\u001b[39m\u001b[38;5;124m'\u001b[39m)\n",
      "\u001b[0;31mModuleNotFoundError\u001b[0m: No module named 'google.colab'"
     ]
    }
   ],
   "source": [
    "from google.colab import drive\n",
    "drive.mount('/content/drive')"
   ]
  },
  {
   "cell_type": "markdown",
   "id": "a5b75bf4",
   "metadata": {
    "id": "a5b75bf4"
   },
   "source": [
    "## Install Dependencies"
   ]
  },
  {
   "cell_type": "code",
   "execution_count": null,
   "id": "0876f352",
   "metadata": {
    "id": "0876f352"
   },
   "outputs": [],
   "source": [
    "# !pip install datasets==1.18.1\n",
    "\n",
    "# ## Please ensure you have executed this at least once."
   ]
  },
  {
   "cell_type": "markdown",
   "id": "9ace541e",
   "metadata": {
    "id": "9ace541e"
   },
   "source": [
    "## Download Parallel Dataset"
   ]
  },
  {
   "cell_type": "code",
   "execution_count": null,
   "id": "8602ba1d",
   "metadata": {
    "id": "8602ba1d"
   },
   "outputs": [],
   "source": [
    "#from datasets import load_dataset"
   ]
  },
  {
   "cell_type": "code",
   "execution_count": null,
   "id": "7b5b3bf1",
   "metadata": {
    "id": "7b5b3bf1"
   },
   "outputs": [],
   "source": [
    "#dataset = load_dataset(\"cfilt/iitb-english-hindi\")"
   ]
  },
  {
   "cell_type": "markdown",
   "id": "aa8e1bb8",
   "metadata": {
    "id": "aa8e1bb8"
   },
   "source": [
    "## Extract Dataset in Source and Target Text files"
   ]
  },
  {
   "cell_type": "code",
   "execution_count": null,
   "id": "7a11dec2",
   "metadata": {
    "id": "7a11dec2"
   },
   "outputs": [],
   "source": [
    "# source_train_file = open(\"source_train.txt\", \"w+\", encoding='utf8')\n",
    "# target_train_file = open(\"target_train.txt\", \"w+\", encoding='utf8')\n",
    "# for translation_pair in dataset[\"train\"][\"translation\"]:\n",
    "#   source_sentence = translation_pair[\"en\"]\n",
    "#   target_sentence = translation_pair[\"hi\"]\n",
    "#   source_train_file.write(source_sentence.strip(\"\\n\") + \"\\n\")\n",
    "#   target_train_file.write(target_sentence.strip(\"\\n\") + \"\\n\")\n",
    "# source_train_file.close()\n",
    "# target_train_file.close()\n",
    "\n",
    "# source_valid_file = open(\"source_valid.txt\", \"w+\", encoding='utf8')\n",
    "# target_valid_file = open(\"target_valid.txt\", \"w+\", encoding='utf8')\n",
    "# for translation_pair in dataset[\"validation\"][\"translation\"]:\n",
    "#   source_sentence = translation_pair[\"en\"]\n",
    "#   target_sentence = translation_pair[\"hi\"]\n",
    "#   source_valid_file.write(source_sentence.strip(\"\\n\") + \"\\n\")\n",
    "#   target_valid_file.write(target_sentence.strip(\"\\n\") + \"\\n\")\n",
    "# source_valid_file.close()\n",
    "# target_valid_file.close()\n",
    "\n",
    "# source_test_file = open(\"source_test.txt\", \"w+\", encoding='utf8')\n",
    "# target_test_file = open(\"target_test.txt\", \"w+\", encoding='utf8')\n",
    "# for translation_pair in dataset[\"test\"][\"translation\"]:\n",
    "#   source_sentence = translation_pair[\"en\"]\n",
    "#   target_sentence = translation_pair[\"hi\"]\n",
    "#   source_test_file.write(source_sentence.strip(\"\\n\") + \"\\n\")\n",
    "#   target_test_file.write(target_sentence.strip(\"\\n\") + \"\\n\")\n",
    "# source_test_file.close()\n",
    "# target_test_file.close()"
   ]
  },
  {
   "cell_type": "markdown",
   "id": "68788062",
   "metadata": {
    "id": "68788062"
   },
   "source": [
    "## Read language text files"
   ]
  },
  {
   "cell_type": "code",
   "execution_count": 5,
   "id": "emPJqrQ5XO5_",
   "metadata": {
    "id": "emPJqrQ5XO5_"
   },
   "outputs": [],
   "source": [
    "import pandas as pd\n",
    "\n",
    "df = pd.read_csv('hind-eng_df.csv')"
   ]
  },
  {
   "cell_type": "code",
   "execution_count": 6,
   "id": "HhR5OgvOJQLL",
   "metadata": {
    "id": "HhR5OgvOJQLL"
   },
   "outputs": [],
   "source": [
    "df['hindi']=df['hindi'].replace('।','',regex=True)"
   ]
  },
  {
   "cell_type": "code",
   "execution_count": 7,
   "id": "bH817kH0Jjat",
   "metadata": {
    "colab": {
     "base_uri": "https://localhost:8080/",
     "height": 35
    },
    "id": "bH817kH0Jjat",
    "outputId": "1e37e72b-f784-4075-d702-f1a25be2817b"
   },
   "outputs": [
    {
     "data": {
      "text/plain": [
       "'आप जिस वाक्य का अनुवाद कर रहे हैं COMMA उस ही का अच्छी तरह से अनुवाद करें दूसरी भाषाओं के अनुवादों से प्रभावित न होने दें'"
      ]
     },
     "execution_count": 7,
     "metadata": {},
     "output_type": "execute_result"
    }
   ],
   "source": [
    "df.hindi.values[-1]"
   ]
  },
  {
   "cell_type": "code",
   "execution_count": 8,
   "id": "mxdmW0Z0bzLj",
   "metadata": {
    "colab": {
     "base_uri": "https://localhost:8080/",
     "height": 35
    },
    "id": "mxdmW0Z0bzLj",
    "outputId": "80920d39-6cf2-4fb4-b398-c5dbc4ed7faf"
   },
   "outputs": [
    {
     "data": {
      "text/plain": [
       "'make a good translation of the sentence that you are translating dont let translations into other languages influence you'"
      ]
     },
     "execution_count": 8,
     "metadata": {},
     "output_type": "execute_result"
    }
   ],
   "source": [
    "df.english.values[-1]"
   ]
  },
  {
   "cell_type": "code",
   "execution_count": 9,
   "id": "011fcb30",
   "metadata": {
    "id": "011fcb30"
   },
   "outputs": [],
   "source": [
    "# import pandas as pd\n",
    "\n",
    "# # File paths\n",
    "# english_sentences = \"source_train.txt\"\n",
    "# hindi_sentences = \"target_train.txt\"\n",
    "\n",
    "# # Reading the source and target files\n",
    "# with open(english_sentences, \"r\", encoding='utf-8') as file:\n",
    "#     english_sentences = file.readlines()\n",
    "\n",
    "# with open(hindi_sentences, \"r\", encoding='utf-8') as file:\n",
    "#     hindi_sentences = file.readlines()\n",
    "\n",
    "# # Removing newline characters and any leading/trailing whitespace\n",
    "# english_sentences = [s.strip() for s in english_sentences]\n",
    "# hindi_sentences = [t.strip() for t in hindi_sentences]\n",
    "\n",
    "# # Creating a DataFrame\n",
    "# df_main = pd.DataFrame({\n",
    "#     \"english\": english_sentences,\n",
    "#     \"hindi\": hindi_sentences\n",
    "# })\n",
    "\n",
    "# # Display the first few rows of the DataFrame\n",
    "# df_main"
   ]
  },
  {
   "cell_type": "markdown",
   "id": "13f33436",
   "metadata": {
    "id": "13f33436"
   },
   "source": [
    "## Preprocess text"
   ]
  },
  {
   "cell_type": "code",
   "execution_count": 10,
   "id": "e3c24c58",
   "metadata": {
    "id": "e3c24c58"
   },
   "outputs": [],
   "source": [
    "# import re\n",
    "\n",
    "# def preprocess_sentence(sentence, language='eng'):\n",
    "\n",
    "#     # Convert to lowercase\n",
    "#     sentence = sentence.lower()\n",
    "#     # Replace ',' with 'COMMA'\n",
    "#     sentence = sentence.replace(',', ' COMMA')\n",
    "\n",
    "#     if language == 'eng':\n",
    "#         # Retain only English letters and spaces, replace everything else\n",
    "#         sentence = re.sub(r'[^a-z COMMA]', '', sentence)\n",
    "#     else:\n",
    "#         # Retain only Hindi characters, common punctuation, spaces, and COMMA\n",
    "#         sentence = re.sub(r'[^\\u0900-\\u097F\\s COMMA]', '', sentence)\n",
    "\n",
    "#     return sentence"
   ]
  },
  {
   "cell_type": "code",
   "execution_count": 11,
   "id": "b0381c61",
   "metadata": {
    "id": "b0381c61"
   },
   "outputs": [],
   "source": [
    "# # Applying preprocessing to the lists of sentences\n",
    "# preprocessed_english_sentences = [preprocess_sentence(sentence, 'eng') for sentence in english_sentences]\n",
    "# preprocessed_hindi_sentences = [preprocess_sentence(sentence, 'hi') for sentence in hindi_sentences]"
   ]
  },
  {
   "cell_type": "code",
   "execution_count": 12,
   "id": "4b6601ad",
   "metadata": {
    "id": "4b6601ad"
   },
   "outputs": [],
   "source": [
    "# # Creating a DataFrame\n",
    "# df_preprocessed = pd.DataFrame({\n",
    "#     \"English\": preprocessed_english_sentences,\n",
    "#     \"Hindi\": preprocessed_hindi_sentences\n",
    "# })\n",
    "\n",
    "# # Displaying the DataFrame\n",
    "# df_preprocessed"
   ]
  },
  {
   "cell_type": "markdown",
   "id": "ed816f40",
   "metadata": {
    "id": "ed816f40"
   },
   "source": [
    "## Filter to only keep sentences with word counts between 10 to 100 words"
   ]
  },
  {
   "cell_type": "code",
   "execution_count": 13,
   "id": "Jiy4rLru-iIl",
   "metadata": {
    "id": "Jiy4rLru-iIl"
   },
   "outputs": [],
   "source": [
    "df_preprocessed = df[['english','hindi']].rename(columns={'english':'English','hindi':'Hindi'})"
   ]
  },
  {
   "cell_type": "code",
   "execution_count": 14,
   "id": "57b60138",
   "metadata": {
    "id": "57b60138"
   },
   "outputs": [],
   "source": [
    "# Filter the DataFrame to only keep sentences with word counts between 10 to 100 words\n",
    "filtered_df_by_word_count = df_preprocessed[\n",
    "    (df_preprocessed['English'].str.split().str.len() >= 5) &\n",
    "    (df_preprocessed['English'].str.split().str.len() <= 100) &\n",
    "    (df_preprocessed['Hindi'].str.split().str.len() >= 5) &\n",
    "    (df_preprocessed['Hindi'].str.split().str.len() <= 100)\n",
    "]"
   ]
  },
  {
   "cell_type": "code",
   "execution_count": 15,
   "id": "29bfb67c",
   "metadata": {
    "colab": {
     "base_uri": "https://localhost:8080/",
     "height": 424
    },
    "id": "29bfb67c",
    "outputId": "446df2ec-5817-4cff-ab30-7a3b7109311e"
   },
   "outputs": [
    {
     "data": {
      "text/html": [
       "<div>\n",
       "<style scoped>\n",
       "    .dataframe tbody tr th:only-of-type {\n",
       "        vertical-align: middle;\n",
       "    }\n",
       "\n",
       "    .dataframe tbody tr th {\n",
       "        vertical-align: top;\n",
       "    }\n",
       "\n",
       "    .dataframe thead th {\n",
       "        text-align: right;\n",
       "    }\n",
       "</style>\n",
       "<table border=\"1\" class=\"dataframe\">\n",
       "  <thead>\n",
       "    <tr style=\"text-align: right;\">\n",
       "      <th></th>\n",
       "      <th>English</th>\n",
       "      <th>Hindi</th>\n",
       "    </tr>\n",
       "  </thead>\n",
       "  <tbody>\n",
       "    <tr>\n",
       "      <th>0</th>\n",
       "      <td>he has a hat on</td>\n",
       "      <td>उसने टोपी पहनी हुई है</td>\n",
       "    </tr>\n",
       "    <tr>\n",
       "      <th>1</th>\n",
       "      <td>no COMMA i didnt go</td>\n",
       "      <td>नहीं COMMA मैं नहीं गया था</td>\n",
       "    </tr>\n",
       "    <tr>\n",
       "      <th>2</th>\n",
       "      <td>he came to see me</td>\n",
       "      <td>वह मुझसे मिलने आया था</td>\n",
       "    </tr>\n",
       "    <tr>\n",
       "      <th>3</th>\n",
       "      <td>he is after a job</td>\n",
       "      <td>वह किसी नौकरी के पीछे पड़ा है</td>\n",
       "    </tr>\n",
       "    <tr>\n",
       "      <th>4</th>\n",
       "      <td>i can drive a car</td>\n",
       "      <td>मैं गाड़ी चला सकता हूँ</td>\n",
       "    </tr>\n",
       "    <tr>\n",
       "      <th>...</th>\n",
       "      <td>...</td>\n",
       "      <td>...</td>\n",
       "    </tr>\n",
       "    <tr>\n",
       "      <th>2085</th>\n",
       "      <td>the passengers who were injured in the acciden...</td>\n",
       "      <td>जिन यात्रियों को दुर्घटना मे चोट आई थी उन्हे अ...</td>\n",
       "    </tr>\n",
       "    <tr>\n",
       "      <th>2086</th>\n",
       "      <td>democracy is the worst form of government COMM...</td>\n",
       "      <td>लोकतंत्र सरकार का सबसे घिनौना रूप है COMMA अगर...</td>\n",
       "    </tr>\n",
       "    <tr>\n",
       "      <th>2087</th>\n",
       "      <td>if my boy had not been killed in the traffic a...</td>\n",
       "      <td>अगर मेरा बेटा ट्रेफ़िक हादसे में नहीं मारा गया...</td>\n",
       "    </tr>\n",
       "    <tr>\n",
       "      <th>2088</th>\n",
       "      <td>when i was a kid COMMA touching bugs didnt bot...</td>\n",
       "      <td>जब मैं बच्चा था COMMA मुझे कीड़ों को छूने से क...</td>\n",
       "    </tr>\n",
       "    <tr>\n",
       "      <th>2089</th>\n",
       "      <td>make a good translation of the sentence that y...</td>\n",
       "      <td>आप जिस वाक्य का अनुवाद कर रहे हैं COMMA उस ही ...</td>\n",
       "    </tr>\n",
       "  </tbody>\n",
       "</table>\n",
       "<p>2090 rows × 2 columns</p>\n",
       "</div>"
      ],
      "text/plain": [
       "                                                English  \\\n",
       "0                                       he has a hat on   \n",
       "1                                   no COMMA i didnt go   \n",
       "2                                     he came to see me   \n",
       "3                                     he is after a job   \n",
       "4                                     i can drive a car   \n",
       "...                                                 ...   \n",
       "2085  the passengers who were injured in the acciden...   \n",
       "2086  democracy is the worst form of government COMM...   \n",
       "2087  if my boy had not been killed in the traffic a...   \n",
       "2088  when i was a kid COMMA touching bugs didnt bot...   \n",
       "2089  make a good translation of the sentence that y...   \n",
       "\n",
       "                                                  Hindi  \n",
       "0                                 उसने टोपी पहनी हुई है  \n",
       "1                            नहीं COMMA मैं नहीं गया था  \n",
       "2                                 वह मुझसे मिलने आया था  \n",
       "3                         वह किसी नौकरी के पीछे पड़ा है  \n",
       "4                                मैं गाड़ी चला सकता हूँ  \n",
       "...                                                 ...  \n",
       "2085  जिन यात्रियों को दुर्घटना मे चोट आई थी उन्हे अ...  \n",
       "2086  लोकतंत्र सरकार का सबसे घिनौना रूप है COMMA अगर...  \n",
       "2087  अगर मेरा बेटा ट्रेफ़िक हादसे में नहीं मारा गया...  \n",
       "2088  जब मैं बच्चा था COMMA मुझे कीड़ों को छूने से क...  \n",
       "2089  आप जिस वाक्य का अनुवाद कर रहे हैं COMMA उस ही ...  \n",
       "\n",
       "[2090 rows x 2 columns]"
      ]
     },
     "execution_count": 15,
     "metadata": {},
     "output_type": "execute_result"
    }
   ],
   "source": [
    "filtered_df_by_word_count.reset_index(drop=True, inplace=True)\n",
    "\n",
    "filtered_df_by_word_count"
   ]
  },
  {
   "cell_type": "code",
   "execution_count": 16,
   "id": "4e733530",
   "metadata": {
    "id": "4e733530"
   },
   "outputs": [],
   "source": [
    "lines = filtered_df_by_word_count"
   ]
  },
  {
   "cell_type": "code",
   "execution_count": 17,
   "id": "f7f0e93b",
   "metadata": {
    "colab": {
     "base_uri": "https://localhost:8080/"
    },
    "id": "f7f0e93b",
    "outputId": "ceb47cb2-a251-4be4-f01e-27c4c155c8fe"
   },
   "outputs": [
    {
     "name": "stdout",
     "output_type": "stream",
     "text": [
      "                                                English  \\\n",
      "0                                       he has a hat on   \n",
      "1                                   no COMMA i didnt go   \n",
      "2                                     he came to see me   \n",
      "3                                     he is after a job   \n",
      "4                                     i can drive a car   \n",
      "...                                                 ...   \n",
      "2085  the passengers who were injured in the acciden...   \n",
      "2086  democracy is the worst form of government COMM...   \n",
      "2087  if my boy had not been killed in the traffic a...   \n",
      "2088  when i was a kid COMMA touching bugs didnt bot...   \n",
      "2089  make a good translation of the sentence that y...   \n",
      "\n",
      "                                                  Hindi  \n",
      "0                                 उसने टोपी पहनी हुई है  \n",
      "1                            नहीं COMMA मैं नहीं गया था  \n",
      "2                                 वह मुझसे मिलने आया था  \n",
      "3                         वह किसी नौकरी के पीछे पड़ा है  \n",
      "4                                मैं गाड़ी चला सकता हूँ  \n",
      "...                                                 ...  \n",
      "2085  जिन यात्रियों को दुर्घटना मे चोट आई थी उन्हे अ...  \n",
      "2086  लोकतंत्र सरकार का सबसे घिनौना रूप है COMMA अगर...  \n",
      "2087  अगर मेरा बेटा ट्रेफ़िक हादसे में नहीं मारा गया...  \n",
      "2088  जब मैं बच्चा था COMMA मुझे कीड़ों को छूने से क...  \n",
      "2089  आप जिस वाक्य का अनुवाद कर रहे हैं COMMA उस ही ...  \n",
      "\n",
      "[2090 rows x 2 columns]\n"
     ]
    }
   ],
   "source": [
    "print(lines)"
   ]
  },
  {
   "cell_type": "markdown",
   "id": "ac979825",
   "metadata": {
    "id": "ac979825"
   },
   "source": [
    "Add Start and end tokens"
   ]
  },
  {
   "cell_type": "markdown",
   "id": "fec04394",
   "metadata": {
    "id": "fec04394"
   },
   "source": [
    "## Tokenize the data"
   ]
  },
  {
   "cell_type": "code",
   "execution_count": 18,
   "id": "fa7d3e36",
   "metadata": {
    "id": "fa7d3e36"
   },
   "outputs": [],
   "source": [
    "def preprocess_sentence(w):\n",
    "    w = w.strip()\n",
    "\n",
    "    # adding a start and an end token to the sentence\n",
    "    # so that the model know when to start and stop predicting.\n",
    "    w = '<start> ' + w + ' <end>'\n",
    "    return w"
   ]
  },
  {
   "cell_type": "markdown",
   "id": "6ef99dff",
   "metadata": {
    "id": "6ef99dff"
   },
   "source": [
    "In Transformer, we add beginning and end of sentence sentinels to *both* languages:"
   ]
  },
  {
   "cell_type": "code",
   "execution_count": 19,
   "id": "063511bd",
   "metadata": {
    "id": "063511bd"
   },
   "outputs": [],
   "source": [
    "def create_full_dataset():\n",
    "    sentence_pairs = [[preprocess_sentence(l[0]), preprocess_sentence(l[1])] for l in lines.values]\n",
    "    return zip(*sentence_pairs)"
   ]
  },
  {
   "cell_type": "code",
   "execution_count": 20,
   "id": "9511dffe",
   "metadata": {
    "id": "9511dffe"
   },
   "outputs": [],
   "source": [
    "def tokenize(lang):\n",
    "    lang_tokenizer = tf.keras.preprocessing.text.Tokenizer(filters='')\n",
    "    lang_tokenizer.fit_on_texts(lang)\n",
    "\n",
    "    tensor = lang_tokenizer.texts_to_sequences(lang)\n",
    "    tensor = tf.keras.preprocessing.sequence.pad_sequences(tensor, padding='post')\n",
    "\n",
    "    return tensor, lang_tokenizer"
   ]
  },
  {
   "cell_type": "code",
   "execution_count": 21,
   "id": "661f22ab",
   "metadata": {
    "id": "661f22ab"
   },
   "outputs": [],
   "source": [
    "def load_full_dataset():\n",
    "    # creating cleaned input, output pairs\n",
    "    inp_lang, targ_lang = create_full_dataset()\n",
    "\n",
    "    input_tensor, inp_lang_tokenizer = tokenize(inp_lang)\n",
    "    target_tensor, targ_lang_tokenizer = tokenize(targ_lang)\n",
    "\n",
    "    return input_tensor, target_tensor, inp_lang_tokenizer, targ_lang_tokenizer"
   ]
  },
  {
   "cell_type": "code",
   "execution_count": 22,
   "id": "436a8481",
   "metadata": {
    "colab": {
     "base_uri": "https://localhost:8080/"
    },
    "id": "436a8481",
    "outputId": "771b845a-b4a0-4a4c-c3c7-fdb0c9cf8d04"
   },
   "outputs": [
    {
     "name": "stdout",
     "output_type": "stream",
     "text": [
      "<start> he has a hat on <end>\n",
      "<start> उसने टोपी पहनी हुई है <end>\n"
     ]
    }
   ],
   "source": [
    "en, hi = create_full_dataset()\n",
    "print(en[0])\n",
    "print(hi[0])"
   ]
  },
  {
   "cell_type": "markdown",
   "id": "a35d3b33",
   "metadata": {
    "id": "a35d3b33"
   },
   "source": [
    "Load the full dataset"
   ]
  },
  {
   "cell_type": "code",
   "execution_count": 23,
   "id": "01fd62f7",
   "metadata": {
    "colab": {
     "base_uri": "https://localhost:8080/"
    },
    "id": "01fd62f7",
    "outputId": "64250ba5-69a4-403e-accf-19b8a09c217e"
   },
   "outputs": [
    {
     "data": {
      "text/plain": [
       "(29, 25)"
      ]
     },
     "execution_count": 23,
     "metadata": {},
     "output_type": "execute_result"
    }
   ],
   "source": [
    "num_examples = len(lines)\n",
    "input_tensor, target_tensor, inp_lang, targ_lang = load_full_dataset()\n",
    "\n",
    "# Calculate max_length of the target tensors\n",
    "max_length_targ, max_length_inp = target_tensor.shape[1], input_tensor.shape[1]\n",
    "max_length_targ, max_length_inp"
   ]
  },
  {
   "cell_type": "code",
   "execution_count": 24,
   "id": "64fc5b91",
   "metadata": {
    "colab": {
     "base_uri": "https://localhost:8080/"
    },
    "id": "64fc5b91",
    "outputId": "c678157d-6129-42d3-f91a-933e8e6c0a3c"
   },
   "outputs": [
    {
     "data": {
      "text/plain": [
       "((2090, 25), (2090, 29))"
      ]
     },
     "execution_count": 24,
     "metadata": {},
     "output_type": "execute_result"
    }
   ],
   "source": [
    "input_tensor.shape, target_tensor.shape"
   ]
  },
  {
   "cell_type": "code",
   "execution_count": 25,
   "id": "36321b37",
   "metadata": {
    "colab": {
     "base_uri": "https://localhost:8080/"
    },
    "id": "36321b37",
    "outputId": "8fdcab84-4bce-42e6-89ca-e9926b003914"
   },
   "outputs": [
    {
     "name": "stdout",
     "output_type": "stream",
     "text": [
      "First 10 words in the Input Language vocabulary:\n",
      "<start>\n",
      "<end>\n",
      "the\n",
      "to\n",
      "i\n",
      "you\n",
      "a\n",
      "is\n",
      "he\n",
      "of\n",
      "First 10 words in the Target Language vocabulary:\n",
      "<start>\n",
      "<end>\n",
      "है\n",
      "में\n",
      "नहीं\n",
      "वह\n",
      "से\n",
      "मैं\n",
      "के\n",
      "को\n"
     ]
    }
   ],
   "source": [
    "# Function to print vocabulary words\n",
    "def print_vocab_words(tokenizer, language_name, num_words=10):\n",
    "    # Extract the word_index from the tokenizer\n",
    "    word_index = tokenizer.word_index\n",
    "\n",
    "    # Get the first 'num_words' words from the vocabulary\n",
    "    first_words = list(word_index.keys())[:num_words]\n",
    "\n",
    "    print(f\"First {num_words} words in the {language_name} vocabulary:\")\n",
    "    for word in first_words:\n",
    "        print(word)\n",
    "\n",
    "# 'inp_lang' and 'targ_lang' are tokenizer objects for input and target languages, respectively\n",
    "print_vocab_words(inp_lang, \"Input Language\")\n",
    "print_vocab_words(targ_lang, \"Target Language\")"
   ]
  },
  {
   "cell_type": "code",
   "execution_count": 26,
   "id": "b80f0a9e",
   "metadata": {
    "colab": {
     "base_uri": "https://localhost:8080/"
    },
    "id": "b80f0a9e",
    "outputId": "1946e1c1-cad0-4bf5-8681-85f13d429457"
   },
   "outputs": [
    {
     "name": "stdout",
     "output_type": "stream",
     "text": [
      "Input language vocabulary size: 2156\n",
      "Target language vocabulary size: 2556\n"
     ]
    }
   ],
   "source": [
    "# Vocabulary size for the input language\n",
    "input_vocab_size = len(inp_lang.word_index) + 1  # Adding 1 because indexing starts from 1\n",
    "print(f\"Input language vocabulary size: {input_vocab_size}\")\n",
    "\n",
    "# Vocabulary size for the target language\n",
    "target_vocab_size = len(targ_lang.word_index) + 1  # Adding 1 because indexing starts from 1\n",
    "print(f\"Target language vocabulary size: {target_vocab_size}\")"
   ]
  },
  {
   "cell_type": "markdown",
   "id": "e000fc2e",
   "metadata": {
    "id": "e000fc2e"
   },
   "source": [
    "## Train and validation split"
   ]
  },
  {
   "cell_type": "code",
   "execution_count": 27,
   "id": "4eb4c81e",
   "metadata": {
    "id": "4eb4c81e"
   },
   "outputs": [],
   "source": [
    "# Select the first 50,000 samples\n",
    "# input_tensor_mini = input_tensor[:10000]\n",
    "input_tensor_mini = input_tensor\n",
    "# target_tensor_mini = target_tensor[:10000]\n",
    "target_tensor_mini = target_tensor"
   ]
  },
  {
   "cell_type": "code",
   "execution_count": 28,
   "id": "e2e63f5b",
   "metadata": {
    "colab": {
     "base_uri": "https://localhost:8080/"
    },
    "id": "e2e63f5b",
    "outputId": "2d99f0d5-959b-47ce-b02b-0c52a47abe79"
   },
   "outputs": [
    {
     "data": {
      "text/plain": [
       "((1881, 25), (209, 25), (1881, 29), (209, 29))"
      ]
     },
     "execution_count": 28,
     "metadata": {},
     "output_type": "execute_result"
    }
   ],
   "source": [
    "# Creating training and validation sets using an 90-10 split\n",
    "input_tensor_train, input_tensor_val, target_tensor_train, target_tensor_val = train_test_split(\n",
    "    input_tensor_mini, target_tensor_mini, test_size=0.1)\n",
    "\n",
    "input_tensor_train.shape, input_tensor_val.shape, target_tensor_train.shape, target_tensor_val.shape"
   ]
  },
  {
   "cell_type": "code",
   "execution_count": 29,
   "id": "77473ee8",
   "metadata": {
    "id": "77473ee8"
   },
   "outputs": [],
   "source": [
    "def convert(lang, tensor):\n",
    "    for t in tensor:\n",
    "        if t!=0:\n",
    "            print (\"%d ----> %s\" % (t, lang.index_word[t]))"
   ]
  },
  {
   "cell_type": "code",
   "execution_count": 30,
   "id": "2cc65cfe",
   "metadata": {
    "colab": {
     "base_uri": "https://localhost:8080/"
    },
    "id": "2cc65cfe",
    "outputId": "baf4bf7f-9cfa-4e1c-a377-b85a6a933ecb"
   },
   "outputs": [
    {
     "name": "stdout",
     "output_type": "stream",
     "text": [
      "Input Language; index to word mapping\n",
      "1 ----> <start>\n",
      "21 ----> do\n",
      "6 ----> you\n",
      "50 ----> know\n",
      "31 ----> your\n",
      "350 ----> size\n",
      "2 ----> <end>\n",
      "\n",
      "Target Language; index to word mapping\n",
      "1 ----> <start>\n",
      "14 ----> क्या\n",
      "132 ----> आपको\n",
      "84 ----> अपना\n",
      "382 ----> नाप\n",
      "67 ----> पता\n",
      "3 ----> है\n",
      "2 ----> <end>\n"
     ]
    }
   ],
   "source": [
    "print (\"Input Language; index to word mapping\")\n",
    "convert(inp_lang, input_tensor_train[1])\n",
    "print ()\n",
    "print (\"Target Language; index to word mapping\")\n",
    "convert(targ_lang, target_tensor_train[1])"
   ]
  },
  {
   "cell_type": "code",
   "execution_count": 31,
   "id": "9c1bce3a",
   "metadata": {
    "id": "9c1bce3a"
   },
   "outputs": [
    {
     "name": "stderr",
     "output_type": "stream",
     "text": [
      "2024-04-03 14:46:21.890074: I metal_plugin/src/device/metal_device.cc:1154] Metal device set to: Apple M3 Pro\n",
      "2024-04-03 14:46:21.890142: I metal_plugin/src/device/metal_device.cc:296] systemMemory: 18.00 GB\n",
      "2024-04-03 14:46:21.890156: I metal_plugin/src/device/metal_device.cc:313] maxCacheSize: 6.00 GB\n",
      "2024-04-03 14:46:21.890282: I tensorflow/core/common_runtime/pluggable_device/pluggable_device_factory.cc:306] Could not identify NUMA node of platform GPU ID 0, defaulting to 0. Your kernel may not have been built with NUMA support.\n",
      "2024-04-03 14:46:21.890761: I tensorflow/core/common_runtime/pluggable_device/pluggable_device_factory.cc:272] Created TensorFlow device (/job:localhost/replica:0/task:0/device:GPU:0 with 0 MB memory) -> physical PluggableDevice (device: 0, name: METAL, pci bus id: <undefined>)\n"
     ]
    }
   ],
   "source": [
    "BATCH_SIZE = 16\n",
    "BUFFER_SIZE = len(input_tensor_train)\n",
    "\n",
    "vocab_inp_size = len(inp_lang.word_index)+1\n",
    "vocab_tar_size = len(targ_lang.word_index)+1\n",
    "\n",
    "dataset_train = tf.data.Dataset.from_tensor_slices((input_tensor_train, target_tensor_train)).shuffle(BUFFER_SIZE)\n",
    "dataset_train = dataset_train.batch(BATCH_SIZE, drop_remainder=True)\n",
    "\n",
    "dataset_val = tf.data.Dataset.from_tensor_slices((input_tensor_val, target_tensor_val)).shuffle(BUFFER_SIZE)\n",
    "dataset_val = dataset_val.batch(BATCH_SIZE, drop_remainder=True)"
   ]
  },
  {
   "cell_type": "code",
   "execution_count": 32,
   "id": "31803de3",
   "metadata": {
    "id": "31803de3"
   },
   "outputs": [],
   "source": [
    "train_dataset = dataset_train\n",
    "val_dataset = dataset_val"
   ]
  },
  {
   "cell_type": "code",
   "execution_count": 33,
   "id": "3a25a55d",
   "metadata": {
    "colab": {
     "base_uri": "https://localhost:8080/"
    },
    "id": "3a25a55d",
    "outputId": "16d31346-37bc-4d0e-effe-f5c4f31b1982"
   },
   "outputs": [
    {
     "data": {
      "text/plain": [
       "<_BatchDataset element_spec=(TensorSpec(shape=(16, 25), dtype=tf.int32, name=None), TensorSpec(shape=(16, 29), dtype=tf.int32, name=None))>"
      ]
     },
     "execution_count": 33,
     "metadata": {},
     "output_type": "execute_result"
    }
   ],
   "source": [
    "train_dataset"
   ]
  },
  {
   "cell_type": "code",
   "execution_count": 34,
   "id": "15e3886c",
   "metadata": {
    "colab": {
     "base_uri": "https://localhost:8080/"
    },
    "id": "15e3886c",
    "outputId": "5750335a-ead0-420a-f770-7543a3dbe213"
   },
   "outputs": [
    {
     "data": {
      "text/plain": [
       "<_BatchDataset element_spec=(TensorSpec(shape=(16, 25), dtype=tf.int32, name=None), TensorSpec(shape=(16, 29), dtype=tf.int32, name=None))>"
      ]
     },
     "execution_count": 34,
     "metadata": {},
     "output_type": "execute_result"
    }
   ],
   "source": [
    "val_dataset"
   ]
  },
  {
   "cell_type": "markdown",
   "id": "42b79378",
   "metadata": {
    "id": "42b79378"
   },
   "source": [
    "## Positional encoding"
   ]
  },
  {
   "cell_type": "code",
   "execution_count": 35,
   "id": "fb4a6ee2",
   "metadata": {
    "id": "fb4a6ee2"
   },
   "outputs": [],
   "source": [
    "def get_angles(pos, i, d_model):\n",
    "    angle_rates = 1 / np.power(10000, (2 * (i//2)) / np.float32(d_model))\n",
    "    return pos * angle_rates"
   ]
  },
  {
   "cell_type": "code",
   "execution_count": 36,
   "id": "00a2f21a",
   "metadata": {
    "id": "00a2f21a"
   },
   "outputs": [],
   "source": [
    "def positional_encoding(position, d_model):\n",
    "    angle_rads = get_angles(np.arange(position)[:, np.newaxis],\n",
    "                          np.arange(d_model)[np.newaxis, :],\n",
    "                          d_model)\n",
    "\n",
    "    # apply sin to even indices in the array; 2i\n",
    "    angle_rads[:, 0::2] = np.sin(angle_rads[:, 0::2])\n",
    "\n",
    "    # apply cos to odd indices in the array; 2i+1\n",
    "    angle_rads[:, 1::2] = np.cos(angle_rads[:, 1::2])\n",
    "\n",
    "    pos_encoding = angle_rads[np.newaxis, ...]\n",
    "\n",
    "    return tf.cast(pos_encoding, dtype=tf.float32)"
   ]
  },
  {
   "cell_type": "markdown",
   "id": "9d8c6730",
   "metadata": {
    "id": "9d8c6730"
   },
   "source": [
    "## Masking pad tokens in the input and future tokens in the output"
   ]
  },
  {
   "cell_type": "code",
   "execution_count": 37,
   "id": "7f8e13e3",
   "metadata": {
    "id": "7f8e13e3"
   },
   "outputs": [],
   "source": [
    "def create_padding_mask(seq):\n",
    "    seq = tf.cast(tf.math.equal(seq, 0), tf.float32)\n",
    "\n",
    "    # add extra dimensions to add the padding\n",
    "    # to the attention logits.\n",
    "    return seq[:, tf.newaxis, tf.newaxis, :]  # (batch_size, 1, 1, seq_len)"
   ]
  },
  {
   "cell_type": "code",
   "execution_count": 38,
   "id": "6379d98d",
   "metadata": {
    "id": "6379d98d"
   },
   "outputs": [],
   "source": [
    "def create_look_ahead_mask(size):\n",
    "    mask = 1 - tf.linalg.band_part(tf.ones((size, size)), -1, 0)\n",
    "    return mask  # (seq_len, seq_len)"
   ]
  },
  {
   "cell_type": "markdown",
   "id": "387f49f7",
   "metadata": {
    "id": "387f49f7"
   },
   "source": [
    "## Scaled dot product attention"
   ]
  },
  {
   "cell_type": "code",
   "execution_count": 39,
   "id": "d9f7d3e3",
   "metadata": {
    "id": "d9f7d3e3"
   },
   "outputs": [],
   "source": [
    "def scaled_dot_product_attention(q, k, v, mask):\n",
    "    \"\"\"Calculate the attention weights.\n",
    "    q, k, v must have matching leading dimensions.\n",
    "    k, v must have matching penultimate dimension, i.e.: seq_len_k = seq_len_v.\n",
    "    The mask has different shapes depending on its type(padding or look ahead)\n",
    "    but it must be broadcastable for addition.\n",
    "\n",
    "    Args:\n",
    "    q: query shape == (..., seq_len_q, depth)\n",
    "    k: key shape == (..., seq_len_k, depth)\n",
    "    v: value shape == (..., seq_len_v, depth_v)\n",
    "    mask: Float tensor with shape broadcastable\n",
    "          to (..., seq_len_q, seq_len_k). Defaults to None.\n",
    "\n",
    "    Returns:\n",
    "    output, attention_weights\n",
    "    \"\"\"\n",
    "\n",
    "    matmul_qk = tf.matmul(q, k, transpose_b=True)  # (..., seq_len_q, seq_len_k)\n",
    "\n",
    "    # scale matmul_qk\n",
    "    dk = tf.cast(tf.shape(k)[-1], tf.float32)\n",
    "    scaled_attention_logits = matmul_qk / tf.math.sqrt(dk)\n",
    "\n",
    "    # add the mask to the scaled tensor.\n",
    "    if mask is not None:\n",
    "        scaled_attention_logits += (mask * -1e9)\n",
    "\n",
    "    # softmax is normalized on the last axis (seq_len_k) so that the scores add up to 1.\n",
    "    attention_weights = tf.nn.softmax(scaled_attention_logits, axis=-1)  # (..., seq_len_q, seq_len_k)\n",
    "\n",
    "    output = tf.matmul(attention_weights, v)  # (..., seq_len_q, depth_v)\n",
    "\n",
    "    return output, attention_weights"
   ]
  },
  {
   "cell_type": "markdown",
   "id": "ed413825",
   "metadata": {
    "id": "ed413825"
   },
   "source": [
    "## Multi-head attention"
   ]
  },
  {
   "cell_type": "code",
   "execution_count": 40,
   "id": "000fecda",
   "metadata": {
    "id": "000fecda"
   },
   "outputs": [],
   "source": [
    "class MultiHeadAttention(tf.keras.layers.Layer):\n",
    "    def __init__(self, d_model, num_heads):\n",
    "        super(MultiHeadAttention, self).__init__()\n",
    "        self.num_heads = num_heads\n",
    "        self.d_model = d_model\n",
    "\n",
    "        assert d_model % self.num_heads == 0\n",
    "\n",
    "        self.depth = d_model // self.num_heads\n",
    "\n",
    "        self.wq = tf.keras.layers.Dense(d_model)\n",
    "        self.wk = tf.keras.layers.Dense(d_model)\n",
    "        self.wv = tf.keras.layers.Dense(d_model)\n",
    "\n",
    "        self.dense = tf.keras.layers.Dense(d_model)\n",
    "\n",
    "    def split_heads(self, x, batch_size):\n",
    "        \"\"\"Split the last dimension into (num_heads, depth).\n",
    "        Transpose the result such that the shape is (batch_size, num_heads, seq_len, depth)\n",
    "        \"\"\"\n",
    "        x = tf.reshape(x, (batch_size, -1, self.num_heads, self.depth))\n",
    "        return tf.transpose(x, perm=[0, 2, 1, 3])\n",
    "\n",
    "    def call(self, v, k, q, mask):\n",
    "        batch_size = tf.shape(q)[0]\n",
    "\n",
    "        q = self.wq(q)  # (batch_size, seq_len, d_model)\n",
    "        k = self.wk(k)  # (batch_size, seq_len, d_model)\n",
    "        v = self.wv(v)  # (batch_size, seq_len, d_model)\n",
    "\n",
    "        q = self.split_heads(q, batch_size)  # (batch_size, num_heads, seq_len_q, depth)\n",
    "        k = self.split_heads(k, batch_size)  # (batch_size, num_heads, seq_len_k, depth)\n",
    "        v = self.split_heads(v, batch_size)  # (batch_size, num_heads, seq_len_v, depth)\n",
    "\n",
    "        # scaled_attention.shape == (batch_size, num_heads, seq_len_q, depth)\n",
    "        # attention_weights.shape == (batch_size, num_heads, seq_len_q, seq_len_k)\n",
    "        scaled_attention, attention_weights = scaled_dot_product_attention(\n",
    "            q, k, v, mask)\n",
    "\n",
    "        scaled_attention = tf.transpose(scaled_attention, perm=[0, 2, 1, 3])  # (batch_size, seq_len_q, num_heads, depth)\n",
    "\n",
    "        concat_attention = tf.reshape(scaled_attention,\n",
    "                                      (batch_size, -1, self.d_model))  # (batch_size, seq_len_q, d_model)\n",
    "\n",
    "        output = self.dense(concat_attention)  # (batch_size, seq_len_q, d_model)\n",
    "\n",
    "        return output, attention_weights"
   ]
  },
  {
   "cell_type": "markdown",
   "id": "cc23a930",
   "metadata": {
    "id": "cc23a930"
   },
   "source": [
    "## Pointwise feed forward network"
   ]
  },
  {
   "cell_type": "code",
   "execution_count": 41,
   "id": "9cac212e",
   "metadata": {
    "id": "9cac212e"
   },
   "outputs": [],
   "source": [
    "def point_wise_feed_forward_network(d_model, dff):\n",
    "    return tf.keras.Sequential([\n",
    "      tf.keras.layers.Dense(dff, activation='relu'),  # (batch_size, seq_len, dff)\n",
    "      tf.keras.layers.Dense(d_model)  # (batch_size, seq_len, d_model)\n",
    "    ])"
   ]
  },
  {
   "cell_type": "markdown",
   "id": "1cd2a9b7",
   "metadata": {
    "id": "1cd2a9b7"
   },
   "source": [
    "# Encoder and decoder\n",
    "\n",
    "Now we're ready to talk about the encoder and decoder. In that, the transformer model follows the same general pattern as our standard sequence to sequence with attention model, albeit with multiple layers:\n",
    "\n",
    "* The input sentence is passed through `N` encoder layers that generate an output for each word/token in the sequence.\n",
    "* The decoder attends on the encoder's output and its own input (self-attention) to predict the next word.\n",
    "\n",
    "## Encoder layer\n",
    "\n",
    "Each encoder layer consists of sublayers:\n",
    "\n",
    "1. Multi-head attention (with padding mask)\n",
    "2. Pointwise feed forward networks\n",
    "\n",
    "Each of these sublayers has a residual connection around it followed by a layer normalization. Residual connections help in avoiding the vanishing gradient problem in deep networks.\n",
    "\n",
    "The output of each sublayer is `LayerNorm(x + Sublayer(x))`. The normalization is done on the `d_model` (last) axis. There are N encoder layers in the transformer."
   ]
  },
  {
   "cell_type": "code",
   "execution_count": 42,
   "id": "43da4792",
   "metadata": {
    "id": "43da4792"
   },
   "outputs": [],
   "source": [
    "class EncoderLayer(tf.keras.layers.Layer):\n",
    "    def __init__(self, d_model, num_heads, dff, rate=0.1):\n",
    "        super(EncoderLayer, self).__init__()\n",
    "\n",
    "        self.mha = MultiHeadAttention(d_model, num_heads)\n",
    "        self.ffn = point_wise_feed_forward_network(d_model, dff)\n",
    "\n",
    "        self.layernorm1 = tf.keras.layers.LayerNormalization(epsilon=1e-6)\n",
    "        self.layernorm2 = tf.keras.layers.LayerNormalization(epsilon=1e-6)\n",
    "\n",
    "        self.dropout1 = tf.keras.layers.Dropout(rate)\n",
    "        self.dropout2 = tf.keras.layers.Dropout(rate)\n",
    "\n",
    "    def call(self, x, training, mask):\n",
    "        attn_output, _ = self.mha(x, x, x, mask)  # (batch_size, input_seq_len, d_model)\n",
    "        attn_output = self.dropout1(attn_output, training=training)\n",
    "        out1 = self.layernorm1(x + attn_output)  # (batch_size, input_seq_len, d_model)\n",
    "\n",
    "        ffn_output = self.ffn(out1)  # (batch_size, input_seq_len, d_model)\n",
    "        ffn_output = self.dropout2(ffn_output, training=training)\n",
    "        out2 = self.layernorm2(out1 + ffn_output)  # (batch_size, input_seq_len, d_model)\n",
    "\n",
    "        return out2"
   ]
  },
  {
   "cell_type": "markdown",
   "id": "a23d11bf",
   "metadata": {
    "id": "a23d11bf"
   },
   "source": [
    "## Decoder layer\n",
    "\n",
    "Each decoder layer consists of sublayers:\n",
    "\n",
    "1. Masked multi-head attention (with look ahead mask and padding mask)\n",
    "2. Multi-head attention (with padding mask): V (value) and K (key) receive the *encoder output* as inputs. Q (query) receives the *output from the masked multi-head attention sublayer.*\n",
    "3. Pointwise feed forward networks\n",
    "\n",
    "Each of these sublayers has a residual connection around it followed by a layer normalization. The output of each sublayer is `LayerNorm(x + Sublayer(x))`. The normalization is done on the `d_model` (last) axis.\n",
    "\n",
    "There are N decoder layers in the transformer.\n",
    "\n",
    "As Q receives the output from decoder's first attention block, and K receives the encoder output, the attention weights represent the importance given to the decoder's input based on the encoder's output. In other words, the decoder predicts the next word by looking at the encoder output and self-attending to its own output. See the demonstration above in the scaled dot product attention section."
   ]
  },
  {
   "cell_type": "code",
   "execution_count": 43,
   "id": "ef91485d",
   "metadata": {
    "id": "ef91485d"
   },
   "outputs": [],
   "source": [
    "class DecoderLayer(tf.keras.layers.Layer):\n",
    "    def __init__(self, d_model, num_heads, dff, rate=0.1):\n",
    "        super(DecoderLayer, self).__init__()\n",
    "\n",
    "        self.mha1 = MultiHeadAttention(d_model, num_heads)\n",
    "        self.mha2 = MultiHeadAttention(d_model, num_heads)\n",
    "\n",
    "        self.ffn = point_wise_feed_forward_network(d_model, dff)\n",
    "\n",
    "        self.layernorm1 = tf.keras.layers.LayerNormalization(epsilon=1e-6)\n",
    "        self.layernorm2 = tf.keras.layers.LayerNormalization(epsilon=1e-6)\n",
    "        self.layernorm3 = tf.keras.layers.LayerNormalization(epsilon=1e-6)\n",
    "\n",
    "        self.dropout1 = tf.keras.layers.Dropout(rate)\n",
    "        self.dropout2 = tf.keras.layers.Dropout(rate)\n",
    "        self.dropout3 = tf.keras.layers.Dropout(rate)\n",
    "\n",
    "\n",
    "    def call(self, x, enc_output, training, look_ahead_mask, padding_mask):\n",
    "        # enc_output.shape == (batch_size, input_seq_len, d_model)\n",
    "\n",
    "        attn1, attn_weights_block1 = self.mha1(x, x, x, look_ahead_mask)  # (batch_size, target_seq_len, d_model)\n",
    "        attn1 = self.dropout1(attn1, training=training)\n",
    "        out1 = self.layernorm1(attn1 + x)\n",
    "\n",
    "        attn2, attn_weights_block2 = self.mha2(\n",
    "            enc_output, enc_output, out1, padding_mask)  # (batch_size, target_seq_len, d_model)\n",
    "        attn2 = self.dropout2(attn2, training=training)\n",
    "        out2 = self.layernorm2(attn2 + out1)  # (batch_size, target_seq_len, d_model)\n",
    "\n",
    "        ffn_output = self.ffn(out2)  # (batch_size, target_seq_len, d_model)\n",
    "        ffn_output = self.dropout3(ffn_output, training=training)\n",
    "        out3 = self.layernorm3(ffn_output + out2)  # (batch_size, target_seq_len, d_model)\n",
    "\n",
    "        return out3, attn_weights_block1, attn_weights_block2"
   ]
  },
  {
   "cell_type": "markdown",
   "id": "99ac7bee",
   "metadata": {
    "id": "99ac7bee"
   },
   "source": [
    "## Encoder\n",
    "\n",
    "And now we can talk about the encoder.\n",
    "\n",
    "The `Encoder` consists of:\n",
    "1.   Word2vec semantic embedding\n",
    "2.   Positional Encoding\n",
    "3.   N encoder layers (what we coded above)\n",
    "\n",
    "The input is fed through an embedding which is then summed with  positional encoding. The output of this summation is the input to the encoder layers. The output of the encoder is the input to the decoder."
   ]
  },
  {
   "cell_type": "code",
   "execution_count": 44,
   "id": "5e9ef996",
   "metadata": {
    "id": "5e9ef996"
   },
   "outputs": [],
   "source": [
    "class Encoder(tf.keras.layers.Layer):\n",
    "    def __init__(self, num_layers, d_model, num_heads, dff, input_vocab_size,\n",
    "               maximum_position_encoding, rate=0.1):\n",
    "        super(Encoder, self).__init__()\n",
    "\n",
    "        self.d_model = d_model\n",
    "        self.num_layers = num_layers\n",
    "\n",
    "        self.embedding = tf.keras.layers.Embedding(input_vocab_size, d_model)\n",
    "        self.pos_encoding = positional_encoding(maximum_position_encoding,\n",
    "                                                self.d_model)\n",
    "\n",
    "\n",
    "        self.enc_layers = [EncoderLayer(d_model, num_heads, dff, rate)\n",
    "                           for _ in range(num_layers)]\n",
    "\n",
    "        self.dropout = tf.keras.layers.Dropout(rate)\n",
    "\n",
    "    def call(self, x, training, mask):\n",
    "        seq_len = tf.shape(x)[1]\n",
    "\n",
    "        # adding embedding and position encoding.\n",
    "        x = self.embedding(x)  # (batch_size, input_seq_len, d_model)\n",
    "        x *= tf.math.sqrt(tf.cast(self.d_model, tf.float32))\n",
    "        x += self.pos_encoding[:, :seq_len, :]\n",
    "\n",
    "        x = self.dropout(x, training=training)\n",
    "\n",
    "        for i in range(self.num_layers):\n",
    "            x = self.enc_layers[i](x, training, mask)\n",
    "\n",
    "        return x  # (batch_size, input_seq_len, d_model)"
   ]
  },
  {
   "cell_type": "markdown",
   "id": "d02b2065",
   "metadata": {
    "id": "d02b2065"
   },
   "source": [
    "## Decoder\n",
    "\n",
    " The `Decoder` consists of:\n",
    "1.   Word2vec embedding of the target sequence\n",
    "2.   Positional Encoding\n",
    "3.   N decoder layers\n",
    "\n",
    "The target sequence is fed through an embedding and summed with positional encoding. The output of this summation is the input to the decoder layers. The output of the decoder is the input to our final linear layer, which we mention in the wrapper Transformer layer."
   ]
  },
  {
   "cell_type": "code",
   "execution_count": 45,
   "id": "ea9cbeaf",
   "metadata": {
    "id": "ea9cbeaf"
   },
   "outputs": [],
   "source": [
    "class Decoder(tf.keras.layers.Layer):\n",
    "    def __init__(self, num_layers, d_model, num_heads, dff, target_vocab_size,\n",
    "               maximum_position_encoding, rate=0.1):\n",
    "        super(Decoder, self).__init__()\n",
    "\n",
    "        self.d_model = d_model\n",
    "        self.num_layers = num_layers\n",
    "\n",
    "        self.embedding = tf.keras.layers.Embedding(target_vocab_size, d_model)\n",
    "        self.pos_encoding = positional_encoding(maximum_position_encoding, d_model)\n",
    "\n",
    "        self.dec_layers = [DecoderLayer(d_model, num_heads, dff, rate)\n",
    "                           for _ in range(num_layers)]\n",
    "        self.dropout = tf.keras.layers.Dropout(rate)\n",
    "\n",
    "    def call(self, x, enc_output, training,\n",
    "           look_ahead_mask, padding_mask):\n",
    "\n",
    "        seq_len = tf.shape(x)[1]\n",
    "        attention_weights = {}\n",
    "\n",
    "        x = self.embedding(x)  # (batch_size, target_seq_len, d_model)\n",
    "        x *= tf.math.sqrt(tf.cast(self.d_model, tf.float32))\n",
    "        x += self.pos_encoding[:, :seq_len, :]\n",
    "\n",
    "        x = self.dropout(x, training=training)\n",
    "\n",
    "        for i in range(self.num_layers):\n",
    "            x, block1, block2 = self.dec_layers[i](x, enc_output, training,\n",
    "                                                 look_ahead_mask, padding_mask)\n",
    "\n",
    "            attention_weights['decoder_layer{}_block1'.format(i+1)] = block1\n",
    "            attention_weights['decoder_layer{}_block2'.format(i+1)] = block2\n",
    "\n",
    "        # x.shape == (batch_size, target_seq_len, d_model)\n",
    "        return x, attention_weights"
   ]
  },
  {
   "cell_type": "markdown",
   "id": "d9f0b018",
   "metadata": {
    "id": "d9f0b018"
   },
   "source": [
    "## Create the Transformer\n",
    "\n",
    "Transformer consists of the encoder, decoder and our final affine (linear) `Dense` layer. The output of the decoder is the input to the linear layer and its output is returned."
   ]
  },
  {
   "cell_type": "code",
   "execution_count": 46,
   "id": "ae76755f",
   "metadata": {
    "id": "ae76755f"
   },
   "outputs": [],
   "source": [
    "class Transformer(tf.keras.Model):\n",
    "    def __init__(self, num_layers, d_model, num_heads, dff, input_vocab_size,\n",
    "               target_vocab_size, pe_input, pe_target, rate=0.1):\n",
    "        super(Transformer, self).__init__()\n",
    "\n",
    "        self.encoder = Encoder(num_layers, d_model, num_heads, dff,\n",
    "                               input_vocab_size, pe_input, rate)\n",
    "\n",
    "        self.decoder = Decoder(num_layers, d_model, num_heads, dff,\n",
    "                               target_vocab_size, pe_target, rate)\n",
    "\n",
    "        self.final_layer = tf.keras.layers.Dense(target_vocab_size)\n",
    "\n",
    "    def call(self, inp, tar, training, enc_padding_mask,\n",
    "           look_ahead_mask, dec_padding_mask):\n",
    "\n",
    "        enc_output = self.encoder(inp, training, enc_padding_mask)  # (batch_size, inp_seq_len, d_model)\n",
    "\n",
    "        # dec_output.shape == (batch_size, tar_seq_len, d_model)\n",
    "        dec_output, attention_weights = self.decoder(\n",
    "            tar, enc_output, training, look_ahead_mask, dec_padding_mask)\n",
    "\n",
    "        final_output = self.final_layer(dec_output)  # (batch_size, tar_seq_len, target_vocab_size)\n",
    "\n",
    "        return final_output, attention_weights"
   ]
  },
  {
   "cell_type": "markdown",
   "id": "55e57579",
   "metadata": {
    "id": "55e57579"
   },
   "source": [
    "### Hyperparameters"
   ]
  },
  {
   "cell_type": "code",
   "execution_count": 47,
   "id": "695d2f1c",
   "metadata": {
    "id": "695d2f1c"
   },
   "outputs": [],
   "source": [
    "num_layers = 4\n",
    "d_model = 128\n",
    "dff = 512\n",
    "num_heads = 8\n",
    "input_vocab_size = len(inp_lang.word_index) + 1\n",
    "target_vocab_size = len(targ_lang.word_index) + 1\n",
    "dropout_rate = 0.1"
   ]
  },
  {
   "cell_type": "markdown",
   "id": "5a5a1bed",
   "metadata": {
    "id": "5a5a1bed"
   },
   "source": [
    "## Optimizer"
   ]
  },
  {
   "cell_type": "code",
   "execution_count": 48,
   "id": "5dc94612",
   "metadata": {
    "id": "5dc94612"
   },
   "outputs": [],
   "source": [
    "class CustomSchedule(tf.keras.optimizers.schedules.LearningRateSchedule):\n",
    "    def __init__(self, d_model, warmup_steps=4000):\n",
    "        super(CustomSchedule, self).__init__()\n",
    "\n",
    "        self.d_model = d_model\n",
    "        self.d_model = tf.cast(self.d_model, tf.float32)\n",
    "\n",
    "        self.warmup_steps = warmup_steps\n",
    "\n",
    "    def __call__(self, step):\n",
    "        step = tf.cast(step, tf.float32)\n",
    "        arg1 = tf.math.rsqrt(step)\n",
    "        arg2 = step * (self.warmup_steps ** -1.5)\n",
    "\n",
    "        return tf.math.rsqrt(self.d_model) * tf.math.minimum(arg1, arg2)"
   ]
  },
  {
   "cell_type": "code",
   "execution_count": 49,
   "id": "8e4679c8",
   "metadata": {
    "id": "8e4679c8"
   },
   "outputs": [],
   "source": [
    "learning_rate = CustomSchedule(d_model)\n",
    "\n",
    "optimizer = tf.keras.optimizers.legacy.Adam(learning_rate, beta_1=0.9, beta_2=0.98,\n",
    "                                     epsilon=1e-9)"
   ]
  },
  {
   "cell_type": "code",
   "execution_count": 50,
   "id": "9fb393a3",
   "metadata": {
    "colab": {
     "base_uri": "https://localhost:8080/",
     "height": 467
    },
    "id": "9fb393a3",
    "outputId": "d93ed856-7d90-4945-9d31-d8682b48cc8e"
   },
   "outputs": [
    {
     "data": {
      "text/plain": [
       "Text(0.5, 0, 'Train Step')"
      ]
     },
     "execution_count": 50,
     "metadata": {},
     "output_type": "execute_result"
    },
    {
     "data": {
      "image/png": "[encoded data removed]",
      "text/plain": [
       "<Figure size 640x480 with 1 Axes>"
      ]
     },
     "metadata": {},
     "output_type": "display_data"
    }
   ],
   "source": [
    "temp_learning_rate_schedule = CustomSchedule(d_model)\n",
    "\n",
    "plt.plot(temp_learning_rate_schedule(tf.range(40000, dtype=tf.float32)))\n",
    "plt.ylabel(\"Learning Rate\")\n",
    "plt.xlabel(\"Train Step\")"
   ]
  },
  {
   "cell_type": "markdown",
   "id": "4042b49a",
   "metadata": {
    "id": "4042b49a"
   },
   "source": [
    "## Loss and metrics\n",
    "\n",
    "Since the target sequences are padded, it is important to apply a padding mask when calculating the loss."
   ]
  },
  {
   "cell_type": "code",
   "execution_count": 51,
   "id": "e838e0d9",
   "metadata": {
    "id": "e838e0d9"
   },
   "outputs": [],
   "source": [
    "loss_object = tf.keras.losses.SparseCategoricalCrossentropy(\n",
    "    from_logits=True, reduction='none')"
   ]
  },
  {
   "cell_type": "code",
   "execution_count": 52,
   "id": "687f573b",
   "metadata": {
    "id": "687f573b"
   },
   "outputs": [],
   "source": [
    "def loss_function(real, pred):\n",
    "    mask = tf.math.logical_not(tf.math.equal(real, 0))\n",
    "    loss_ = loss_object(real, pred)\n",
    "\n",
    "    mask = tf.cast(mask, dtype=loss_.dtype)\n",
    "    loss_ *= mask\n",
    "\n",
    "    return tf.reduce_sum(loss_)/tf.reduce_sum(mask)"
   ]
  },
  {
   "cell_type": "code",
   "execution_count": 53,
   "id": "52da641e",
   "metadata": {
    "id": "52da641e"
   },
   "outputs": [],
   "source": [
    "train_loss = tf.keras.metrics.Mean(name='train_loss')\n",
    "train_accuracy = tf.keras.metrics.SparseCategoricalAccuracy(\n",
    "    name='train_accuracy')"
   ]
  },
  {
   "cell_type": "markdown",
   "id": "95647e0d",
   "metadata": {
    "id": "95647e0d"
   },
   "source": [
    "## Training and checkpointing"
   ]
  },
  {
   "cell_type": "code",
   "execution_count": 54,
   "id": "6cbefd37",
   "metadata": {
    "id": "6cbefd37"
   },
   "outputs": [],
   "source": [
    "transformer = Transformer(num_layers, d_model, num_heads, dff,\n",
    "                          input_vocab_size, target_vocab_size,\n",
    "                          pe_input=input_vocab_size,\n",
    "                          pe_target=target_vocab_size,\n",
    "                          rate=dropout_rate)"
   ]
  },
  {
   "cell_type": "code",
   "execution_count": 55,
   "id": "985aac85",
   "metadata": {
    "id": "985aac85"
   },
   "outputs": [],
   "source": [
    "def create_masks(inp, tar):\n",
    "    # Encoder padding mask\n",
    "    enc_padding_mask = create_padding_mask(inp)\n",
    "\n",
    "    # Used in the 2nd attention block in the decoder.\n",
    "    # This padding mask is used to mask the encoder outputs.\n",
    "    dec_padding_mask = create_padding_mask(inp)\n",
    "\n",
    "    # Used in the 1st attention block in the decoder.\n",
    "    # It is used to pad and mask future tokens in the input received by\n",
    "    # the decoder.\n",
    "    look_ahead_mask = create_look_ahead_mask(tf.shape(tar)[1])\n",
    "    dec_target_padding_mask = create_padding_mask(tar)\n",
    "    combined_mask = tf.maximum(dec_target_padding_mask, look_ahead_mask)\n",
    "\n",
    "    return enc_padding_mask, combined_mask, dec_padding_mask"
   ]
  },
  {
   "cell_type": "markdown",
   "id": "eaa4a9eb",
   "metadata": {
    "id": "eaa4a9eb"
   },
   "source": [
    "Create the checkpoint path and the checkpoint manager. This will be used to save checkpoints every `n` epochs.\n",
    "\n",
    "Create the `transformer` folder in your `~/data/training_checkpoints` folder."
   ]
  },
  {
   "cell_type": "code",
   "execution_count": 56,
   "id": "07c211c0",
   "metadata": {
    "id": "07c211c0"
   },
   "outputs": [
    {
     "name": "stdout",
     "output_type": "stream",
     "text": [
      "Latest checkpoint restored!!\n"
     ]
    }
   ],
   "source": [
    "checkpoint_path = \"training_checkpoints/transformer\"\n",
    "\n",
    "ckpt = tf.train.Checkpoint(transformer=transformer,\n",
    "                           optimizer=optimizer)\n",
    "\n",
    "ckpt_manager = tf.train.CheckpointManager(ckpt, checkpoint_path, max_to_keep=5)\n",
    "\n",
    "# if a checkpoint exists, restore the latest checkpoint.\n",
    "if ckpt_manager.latest_checkpoint:\n",
    "    ckpt.restore(ckpt_manager.latest_checkpoint)\n",
    "    print ('Latest checkpoint restored!!')"
   ]
  },
  {
   "cell_type": "markdown",
   "id": "bc6b81dd",
   "metadata": {
    "id": "bc6b81dd"
   },
   "source": [
    "The target is divided into `tar_inp` and `tar_real`. `tar_inp` is passed as an input to the decoder. `tar_real` is that same input shifted by 1: At each location in `tar_input`, `tar_real` contains the  next token that should be predicted.\n",
    "\n",
    "For example, `sentence` = \"<start> A lion in the jungle is sleeping <end>\"\n",
    "\n",
    "`tar_inp` =  `<start> A lion in the jungle is sleeping`\n",
    "\n",
    "`tar_real` = `A lion in the jungle is sleeping <end>`\n",
    "\n",
    "The transformer is an auto-regressive model: it makes predictions one word at a time, and uses its output so far to decide what word to predict next.\n",
    "\n",
    "During training, this example uses teacher-forcing\n",
    "\n",
    "(as in the [text generation tutorial](./text_generation.ipynb)).\n",
    "\n",
    "Teacher forcing is passing the true output to the next time step regardless of what the model predicts at the current time step.\n",
    "\n",
    "As the transformer predicts each word, **self-attention** allows it to look at the previous words in the input sequence to better predict the next word.\n",
    "\n",
    "To prevent the model from peaking at the expected output, the model uses a look-ahead mask."
   ]
  },
  {
   "cell_type": "markdown",
   "id": "1b6edc3f",
   "metadata": {
    "id": "1b6edc3f"
   },
   "source": [
    "This is our training step:"
   ]
  },
  {
   "cell_type": "code",
   "execution_count": 57,
   "id": "97477592",
   "metadata": {
    "id": "97477592"
   },
   "outputs": [],
   "source": [
    "# The @tf.function trace-compiles train_step into a TF graph for faster\n",
    "# execution. The function specializes to the precise shape of the argument\n",
    "# tensors. To avoid re-tracing due to the variable sequence lengths or variable\n",
    "# batch sizes (the last batch is smaller), use input_signature to specify\n",
    "# more generic shapes.\n",
    "\n",
    "# for bigger corpuses\n",
    "#train_step_signature = [\n",
    "#    tf.TensorSpec(shape=(None, None), dtype=tf.int64),\n",
    "#    tf.TensorSpec(shape=(None, None), dtype=tf.int64),\n",
    "#]\n",
    "\n",
    "# for our corpus\n",
    "train_step_signature = [\n",
    "    tf.TensorSpec(shape=(None, None), dtype=tf.int32),\n",
    "    tf.TensorSpec(shape=(None, None), dtype=tf.int32),\n",
    "]\n",
    "\n",
    "@tf.function(input_signature=train_step_signature)\n",
    "def train_step(inp, tar):\n",
    "    tar_inp = tar[:, :-1]\n",
    "    tar_real = tar[:, 1:]\n",
    "\n",
    "    enc_padding_mask, combined_mask, dec_padding_mask = create_masks(inp, tar_inp)\n",
    "\n",
    "    with tf.GradientTape() as tape:\n",
    "        predictions, _ = transformer(inp, tar_inp,\n",
    "                                     True,\n",
    "                                     enc_padding_mask,\n",
    "                                     combined_mask,\n",
    "                                     dec_padding_mask)\n",
    "        loss = loss_function(tar_real, predictions)\n",
    "\n",
    "    gradients = tape.gradient(loss, transformer.trainable_variables)\n",
    "    optimizer.apply_gradients(zip(gradients, transformer.trainable_variables))\n",
    "\n",
    "    train_loss(loss)\n",
    "    train_accuracy(tar_real, predictions)"
   ]
  },
  {
   "cell_type": "markdown",
   "id": "06cfc2d0",
   "metadata": {
    "id": "06cfc2d0"
   },
   "source": [
    "And this is our training loop:\n",
    "\n",
    "### Before you run this, run the cells below, which define the translation routine\n",
    "We'll be running translations inline as we're training the transformer."
   ]
  },
  {
   "cell_type": "code",
   "execution_count": 58,
   "id": "e8d30217",
   "metadata": {
    "id": "e8d30217"
   },
   "outputs": [],
   "source": [
    "EPOCHS = 1"
   ]
  },
  {
   "cell_type": "code",
   "execution_count": 122,
   "id": "22f55ab8",
   "metadata": {
    "colab": {
     "base_uri": "https://localhost:8080/",
     "height": 1000
    },
    "id": "22f55ab8",
    "outputId": "7ba1f79e-c827-4e85-f400-2585a93b8a18"
   },
   "outputs": [
    {
     "name": "stdout",
     "output_type": "stream",
     "text": [
      "Epoch 1 Batch 0 Loss 0.1645 Accuracy 0.2835\n",
      "Epoch 1 Batch 50 Loss 0.1886 Accuracy 0.2939\n",
      "Epoch 1 Batch 100 Loss 0.1983 Accuracy 0.2956\n",
      "Epoch 1 Loss 0.2037 Accuracy 0.2964\n",
      "Time taken for 1 epoch: 4.30705189704895 secs\n",
      "\n",
      "<start> i like my job very much <end>\n",
      "[[1, 5, 35, 13, 167, 55, 107, 2]]\n",
      "[1, 1, 5, 35, 13, 167, 55, 107, 2, 2]\n",
      "[  1  12  84  47  21 110   3]\n",
      "Input: <start> i like my job very much <end>\n",
      "Predicted translation: ['<start> मुझे अपना काम बहुत पसंद है']\n",
      "Epoch 2 Batch 0 Loss 0.1776 Accuracy 0.2902\n",
      "Epoch 2 Batch 50 Loss 0.1904 Accuracy 0.3003\n",
      "Epoch 2 Batch 100 Loss 0.2012 Accuracy 0.2965\n",
      "Epoch 2 Loss 0.2089 Accuracy 0.2955\n",
      "Time taken for 1 epoch: 5.4503607749938965 secs\n",
      "\n",
      "<start> there is a strange man at the door <end>\n",
      "[[1, 43, 8, 7, 543, 86, 29, 3, 164, 2]]\n",
      "[1, 1, 43, 8, 7, 543, 86, 29, 3, 164, 2, 2]\n",
      "[  1 289  18  54 388 514 300   3]\n",
      "Input: <start> there is a strange man at the door <end>\n",
      "Predicted translation: ['<start> दरवाज़े पर कोई अजीब सा इनसान है']\n",
      "Epoch 3 Batch 0 Loss 0.2112 Accuracy 0.3616\n",
      "Epoch 3 Batch 50 Loss 0.1846 Accuracy 0.2975\n",
      "Epoch 3 Batch 100 Loss 0.2018 Accuracy 0.2971\n",
      "Epoch 3 Loss 0.2083 Accuracy 0.2963\n",
      "Time taken for 1 epoch: 4.294848442077637 secs\n",
      "\n",
      "<start> my birthday is one month from today <end>\n",
      "[[1, 13, 256, 8, 72, 174, 48, 110, 2]]\n",
      "[1, 1, 13, 256, 8, 72, 174, 48, 110, 2, 2]\n",
      "[  1  80 296  88   7  22 205   4   3]\n",
      "Input: <start> my birthday is one month from today <end>\n",
      "Predicted translation: ['<start> मेरा जन्मदिन आज से एक महीने में है']\n",
      "Epoch 4 Batch 0 Loss 0.1589 Accuracy 0.3237\n",
      "Epoch 4 Batch 50 Loss 0.1644 Accuracy 0.2969\n",
      "Epoch 4 Batch 100 Loss 0.1808 Accuracy 0.2973\n",
      "Epoch 4 Loss 0.1847 Accuracy 0.2980\n",
      "Time taken for 1 epoch: 5.582632541656494 secs\n",
      "\n",
      "<start> i had a strange dream last night <end>\n",
      "[[1, 5, 49, 7, 543, 532, 100, 207, 2]]\n",
      "[1, 1, 5, 49, 7, 543, 532, 100, 207, 2, 2]\n",
      "[  1  12  46 161  22  21 388 579 209]\n",
      "Input: <start> i had a strange dream last night <end>\n",
      "Predicted translation: ['<start> मुझे कल रात एक बहुत अजीब सपना आया']\n",
      "Epoch 5 Batch 0 Loss 0.0781 Accuracy 0.2969\n",
      "Epoch 5 Batch 50 Loss 0.1516 Accuracy 0.3018\n",
      "Epoch 5 Batch 100 Loss 0.1769 Accuracy 0.2990\n",
      "Saving checkpoint for epoch 5 at /content/drive/MyDrive/training_checkpoints/transformer/ckpt-12\n",
      "Epoch 5 Loss 0.1820 Accuracy 0.2986\n",
      "Time taken for 1 epoch: 4.892346382141113 secs\n",
      "\n",
      "<start> her way of talking got on my nerves <end>\n",
      "[[1, 33, 163, 10, 282, 129, 25, 13, 978, 2]]\n",
      "[1, 1, 33, 163, 10, 282, 129, 25, 13, 978, 2, 2]\n",
      "[   1   49 2035   18  105  717   17 2036    3    6   21 2037   16   30\n",
      "    3]\n",
      "Input: <start> her way of talking got on my nerves <end>\n",
      "Predicted translation: ['<start> उसकी गाल पर जो चोट का निशान है वह बहुत हल्का हो गया है']\n",
      "Epoch 6 Batch 0 Loss 0.1720 Accuracy 0.3304\n",
      "Epoch 6 Batch 50 Loss 0.1583 Accuracy 0.3022\n",
      "Epoch 6 Batch 100 Loss 0.1729 Accuracy 0.2975\n",
      "Epoch 6 Loss 0.1804 Accuracy 0.2985\n",
      "Time taken for 1 epoch: 5.433449029922485 secs\n",
      "\n",
      "<start> what time did your friend go home <end>\n",
      "[[1, 32, 42, 65, 31, 266, 38, 109, 2]]\n",
      "[1, 1, 32, 42, 65, 31, 266, 38, 109, 2, 2]\n",
      "[  1 278 212 157  71  63 121  30  15]\n",
      "Input: <start> what time did your friend go home <end>\n",
      "Predicted translation: ['<start> तुम्हारा दोस्त कितने बजे घर वापस गया था']\n",
      "Epoch 7 Batch 0 Loss 0.1478 Accuracy 0.3214\n",
      "Epoch 7 Batch 50 Loss 0.1592 Accuracy 0.3013\n",
      "Epoch 7 Batch 100 Loss 0.1771 Accuracy 0.2984\n",
      "Epoch 7 Loss 0.1764 Accuracy 0.2987\n",
      "Time taken for 1 epoch: 4.398572206497192 secs\n",
      "\n",
      "<start> the news caused alarm throughout the village <end>\n",
      "[[1, 3, 291, 1075, 1876, 1877, 3, 388, 2]]\n",
      "[1, 1, 3, 291, 1075, 1876, 1877, 3, 388, 2, 2]\n",
      "[   1 2087  134    9  186  351   82]\n",
      "Input: <start> the news caused alarm throughout the village <end>\n",
      "Predicted translation: ['<start> पौधे बारिश के बिना मर गए']\n",
      "Epoch 8 Batch 0 Loss 0.1028 Accuracy 0.2924\n",
      "Epoch 8 Batch 50 Loss 0.1445 Accuracy 0.3033\n",
      "Epoch 8 Batch 100 Loss 0.1675 Accuracy 0.2995\n",
      "Epoch 8 Loss 0.1681 Accuracy 0.2991\n",
      "Time taken for 1 epoch: 7.5096375942230225 secs\n",
      "\n",
      "<start> the storm destroyed the whole town <end>\n",
      "[[1, 3, 1014, 757, 3, 570, 329, 2]]\n",
      "[1, 1, 3, 1014, 757, 3, 570, 329, 2, 2]\n",
      "[   1 1109   39  411  221   10 1859   26   58]\n",
      "Input: <start> the storm destroyed the whole town <end>\n",
      "Predicted translation: ['<start> तूफ़ान ने पूरे शहर को तबाह कर दिया']\n",
      "Epoch 9 Batch 0 Loss 0.1706 Accuracy 0.3348\n",
      "Epoch 9 Batch 50 Loss 0.1507 Accuracy 0.3027\n",
      "Epoch 9 Batch 100 Loss 0.1626 Accuracy 0.2998\n",
      "Epoch 9 Loss 0.1689 Accuracy 0.2991\n",
      "Time taken for 1 epoch: 4.302968263626099 secs\n",
      "\n",
      "<start> do you believe in fairies <end>\n",
      "[[1, 21, 6, 217, 11, 833, 2]]\n",
      "[1, 1, 21, 6, 217, 11, 833, 2, 2]\n",
      "[  1  14  24  52   4 165 261  16]\n",
      "Input: <start> do you believe in fairies <end>\n",
      "Predicted translation: ['<start> क्या तुम उस में अच्छी लगती हो']\n",
      "Epoch 10 Batch 0 Loss 0.1400 Accuracy 0.3170\n",
      "Epoch 10 Batch 50 Loss 0.1393 Accuracy 0.3069\n",
      "Epoch 10 Batch 100 Loss 0.1608 Accuracy 0.3011\n",
      "Saving checkpoint for epoch 10 at /content/drive/MyDrive/training_checkpoints/transformer/ckpt-13\n",
      "Epoch 10 Loss 0.1656 Accuracy 0.3000\n",
      "Time taken for 1 epoch: 5.295231819152832 secs\n",
      "\n",
      "<start> you can buy whichever you like COMMA but not both <end>\n",
      "[[1, 6, 40, 251, 1887, 6, 35, 12, 76, 30, 179, 2]]\n",
      "[1, 1, 6, 40, 251, 1887, 6, 35, 12, 76, 30, 179, 2, 2]\n",
      "[   1   24 2116   33   37 2117   33   37    5   26   45]\n",
      "Input: <start> you can buy whichever you like COMMA but not both <end>\n",
      "Predicted translation: ['<start> तुम चित भी मेरी पट भी मेरी नहीं कर सकते']\n",
      "Epoch 11 Batch 0 Loss 0.2687 Accuracy 0.3080\n",
      "Epoch 11 Batch 50 Loss 0.1313 Accuracy 0.3010\n",
      "Epoch 11 Batch 100 Loss 0.1469 Accuracy 0.3008\n",
      "Epoch 11 Loss 0.1548 Accuracy 0.3007\n",
      "Time taken for 1 epoch: 4.70469069480896 secs\n",
      "\n",
      "<start> he was buried in this graveyard <end>\n",
      "[[1, 9, 20, 721, 11, 17, 948, 2]]\n",
      "[1, 1, 9, 20, 721, 11, 17, 948, 2, 2]\n",
      "[   1   75   31  771    4 1037   50   30   15]\n",
      "Input: <start> he was buried in this graveyard <end>\n",
      "Predicted translation: ['<start> उसको इस कब्रिस्तान में बरी किया गया था']\n",
      "Epoch 12 Batch 0 Loss 0.1776 Accuracy 0.2790\n",
      "Epoch 12 Batch 50 Loss 0.1303 Accuracy 0.3020\n",
      "Epoch 12 Batch 100 Loss 0.1386 Accuracy 0.3012\n",
      "Epoch 12 Loss 0.1437 Accuracy 0.3009\n",
      "Time taken for 1 epoch: 4.440275192260742 secs\n",
      "\n",
      "<start> she poured coffee into the cups on the table <end>\n",
      "[[1, 16, 1867, 244, 139, 3, 827, 25, 3, 727, 2]]\n",
      "[1, 1, 16, 1867, 244, 139, 3, 827, 25, 3, 727, 2, 2]\n",
      "[   1   19  292   18 2227  111 2228    4  282 2229]\n",
      "Input: <start> she poured coffee into the cups on the table <end>\n",
      "Predicted translation: ['<start> उसने मेज़ पर रखे हुए कपों में कॉफ़ी डाली']\n",
      "Epoch 13 Batch 0 Loss 0.1801 Accuracy 0.3103\n",
      "Epoch 13 Batch 50 Loss 0.1489 Accuracy 0.2967\n",
      "Epoch 13 Batch 100 Loss 0.1540 Accuracy 0.2993\n",
      "Epoch 13 Loss 0.1545 Accuracy 0.3000\n",
      "Time taken for 1 epoch: 4.896226406097412 secs\n",
      "\n",
      "<start> read as many books as possible <end>\n",
      "[[1, 197, 47, 103, 212, 47, 337, 2]]\n",
      "[1, 1, 197, 47, 103, 212, 47, 337, 2, 2]\n",
      "[   1  495  274  276   45   16 1021]\n",
      "Input: <start> read as many books as possible <end>\n",
      "Predicted translation: ['<start> जितनी किताबें पढ़ सकते हो पढ़ो']\n",
      "Epoch 14 Batch 0 Loss 0.0891 Accuracy 0.3147\n",
      "Epoch 14 Batch 50 Loss 0.1259 Accuracy 0.3050\n",
      "Epoch 14 Batch 100 Loss 0.1491 Accuracy 0.3015\n",
      "Epoch 14 Loss 0.1517 Accuracy 0.3006\n",
      "Time taken for 1 epoch: 4.235716819763184 secs\n",
      "\n",
      "<start> if the coffee is too strong COMMA add some more water <end>\n",
      "[[1, 61, 3, 244, 8, 111, 598, 12, 649, 134, 101, 160, 2]]\n",
      "[1, 1, 61, 3, 244, 8, 111, 598, 12, 649, 134, 101, 160, 2, 2]\n",
      "[   1  117  282   97 2324    3   40  171   32  182 2325]\n",
      "Input: <start> if the coffee is too strong COMMA add some more water <end>\n",
      "Predicted translation: ['<start> अगर कॉफ़ी ज़्यादा कड़वी है तो थोड़ा और पानी डाललो']\n",
      "Epoch 15 Batch 0 Loss 0.0618 Accuracy 0.2946\n",
      "Epoch 15 Batch 50 Loss 0.1203 Accuracy 0.3052\n",
      "Epoch 15 Batch 100 Loss 0.1344 Accuracy 0.3029\n",
      "Saving checkpoint for epoch 15 at /content/drive/MyDrive/training_checkpoints/transformer/ckpt-14\n",
      "Epoch 15 Loss 0.1410 Accuracy 0.3014\n",
      "Time taken for 1 epoch: 5.920160293579102 secs\n",
      "\n",
      "<start> bring your sister next time <end>\n",
      "[[1, 647, 31, 210, 144, 42, 2]]\n",
      "[1, 1, 647, 31, 210, 144, 42, 2, 2]\n",
      "[   1  719  124   44  246   10   33   64 1458]\n",
      "Input: <start> bring your sister next time <end>\n",
      "Predicted translation: ['<start> अगली बार अपनी बहन को भी साथ लाना']\n",
      "Epoch 16 Batch 0 Loss 0.1395 Accuracy 0.3013\n",
      "Epoch 16 Batch 50 Loss 0.1193 Accuracy 0.3058\n",
      "Epoch 16 Batch 100 Loss 0.1393 Accuracy 0.3013\n",
      "Epoch 16 Loss 0.1385 Accuracy 0.3019\n",
      "Time taken for 1 epoch: 4.30185866355896 secs\n",
      "\n",
      "<start> we tried it again COMMA but couldnt do it <end>\n",
      "[[1, 27, 192, 15, 156, 12, 76, 188, 21, 15, 2]]\n",
      "[1, 1, 27, 192, 15, 156, 12, 76, 188, 21, 15, 2, 2]\n",
      "[   1  148  222   38   13 2006   13   28   18    5   26 1132]\n",
      "Input: <start> we tried it again COMMA but couldnt do it <end>\n",
      "Predicted translation: ['<start> हमने फिरसे करने की कोशीश की comma पर नहीं कर पाए']\n",
      "Epoch 17 Batch 0 Loss 0.0821 Accuracy 0.3080\n",
      "Epoch 17 Batch 50 Loss 0.1213 Accuracy 0.3022\n",
      "Epoch 17 Batch 100 Loss 0.1321 Accuracy 0.3029\n",
      "Epoch 17 Loss 0.1352 Accuracy 0.3019\n",
      "Time taken for 1 epoch: 5.548585891723633 secs\n",
      "\n",
      "<start> he must be over sixty <end>\n",
      "[[1, 9, 116, 37, 800, 1146, 2]]\n",
      "[1, 1, 9, 116, 37, 800, 1146, 2, 2]\n",
      "[  1   6 140 318  86 130   5 287]\n",
      "Input: <start> he must be over sixty <end>\n",
      "Predicted translation: ['<start> वह वहाँ अकेले जाने क्यों नहीं आई']\n",
      "Epoch 18 Batch 0 Loss 0.0560 Accuracy 0.2746\n",
      "Epoch 18 Batch 50 Loss 0.1251 Accuracy 0.3013\n",
      "Epoch 18 Batch 100 Loss 0.1300 Accuracy 0.3014\n",
      "Epoch 18 Loss 0.1309 Accuracy 0.3025\n",
      "Time taken for 1 epoch: 4.292610168457031 secs\n",
      "\n",
      "<start> my father is very nice <end>\n",
      "[[1, 13, 67, 8, 55, 405, 2]]\n",
      "[1, 1, 13, 67, 8, 55, 405, 2, 2]\n",
      "[  1  27 155  21 283  11]\n",
      "Input: <start> my father is very nice <end>\n",
      "Predicted translation: ['<start> मेरे पापा बहुत अच्छे हैं']\n",
      "Epoch 19 Batch 0 Loss 0.1204 Accuracy 0.2835\n",
      "Epoch 19 Batch 50 Loss 0.1209 Accuracy 0.3055\n",
      "Epoch 19 Batch 100 Loss 0.1255 Accuracy 0.3032\n",
      "Epoch 19 Loss 0.1297 Accuracy 0.3028\n",
      "Time taken for 1 epoch: 5.368349552154541 secs\n",
      "\n",
      "<start> ill call you back later <end>\n",
      "[[1, 88, 142, 6, 89, 505, 2]]\n",
      "[1, 1, 88, 142, 6, 89, 505, 2, 2]\n",
      "[  1   8 132 181 114 230 170 548]\n",
      "Input: <start> ill call you back later <end>\n",
      "Predicted translation: ['<start> मैं आपको थोड़ी देर बाद फ़ोन करूँगा']\n",
      "Epoch 20 Batch 0 Loss 0.1509 Accuracy 0.3036\n",
      "Epoch 20 Batch 50 Loss 0.1162 Accuracy 0.3048\n",
      "Epoch 20 Batch 100 Loss 0.1264 Accuracy 0.3040\n",
      "Saving checkpoint for epoch 20 at /content/drive/MyDrive/training_checkpoints/transformer/ckpt-15\n",
      "Epoch 20 Loss 0.1297 Accuracy 0.3030\n",
      "Time taken for 1 epoch: 4.741009712219238 secs\n",
      "\n",
      "<start> how long will you stay here <end>\n",
      "[[1, 46, 78, 26, 6, 257, 63, 2]]\n",
      "[1, 1, 46, 78, 26, 6, 257, 63, 2, 2]\n",
      "[  1  90  78 157 116 942]\n",
      "Input: <start> how long will you stay here <end>\n",
      "Predicted translation: ['<start> आप यहाँ कितने दिन रहेंगे']\n",
      "Epoch 21 Batch 0 Loss 0.1171 Accuracy 0.3058\n",
      "Epoch 21 Batch 50 Loss 0.1200 Accuracy 0.3058\n",
      "Epoch 21 Batch 100 Loss 0.1265 Accuracy 0.3022\n",
      "Epoch 21 Loss 0.1286 Accuracy 0.3025\n",
      "Time taken for 1 epoch: 5.192597389221191 secs\n",
      "\n",
      "<start> i advise you to stop smoking <end>\n",
      "[[1, 5, 684, 6, 4, 307, 283, 2]]\n",
      "[1, 1, 5, 684, 6, 4, 307, 283, 2, 2]\n",
      "[  1  27 389   7  74 262 361 150 235 340]\n",
      "Input: <start> i advise you to stop smoking <end>\n",
      "Predicted translation: ['<start> मेरे ख़याल से तुम्हे सिगरेट पीना छोड़ देना चहिए']\n",
      "Epoch 22 Batch 0 Loss 0.0845 Accuracy 0.3393\n"
     ]
    },
    {
     "name": "stderr",
     "output_type": "stream",
     "text": [
      "<ipython-input-109-dfd3264d2dd7>:2: RuntimeWarning: More than 20 figures have been opened. Figures created through the pyplot interface (`matplotlib.pyplot.figure`) are retained until explicitly closed and may consume too much memory. (To control this warning, see the rcParam `figure.max_open_warning`). Consider using `matplotlib.pyplot.close()`.\n",
      "  fig = plt.figure(figsize=(16, 8))\n"
     ]
    },
    {
     "name": "stdout",
     "output_type": "stream",
     "text": [
      "Epoch 22 Batch 50 Loss 0.1057 Accuracy 0.3045\n",
      "Epoch 22 Batch 100 Loss 0.1138 Accuracy 0.3041\n",
      "Epoch 22 Loss 0.1174 Accuracy 0.3036\n",
      "Time taken for 1 epoch: 4.378880262374878 secs\n",
      "\n",
      "<start> my uncle is an amateur cricket player <end>\n",
      "[[1, 13, 577, 8, 64, 578, 579, 580, 2]]\n",
      "[1, 1, 13, 577, 8, 64, 578, 579, 580, 2, 2]\n",
      "[   1   27 1982  635    9  636  637   11]\n",
      "Input: <start> my uncle is an amateur cricket player <end>\n",
      "Predicted translation: ['<start> मेरे चाचा क्रिकेट के शौकिया खिलाड़ी हैं']\n",
      "Epoch 23 Batch 0 Loss 0.0542 Accuracy 0.2879\n",
      "Epoch 23 Batch 50 Loss 0.1105 Accuracy 0.3120\n",
      "Epoch 23 Batch 100 Loss 0.1230 Accuracy 0.3049\n",
      "Epoch 23 Loss 0.1248 Accuracy 0.3032\n",
      "Time taken for 1 epoch: 5.270899534225464 secs\n",
      "\n",
      "<start> few people will admit their faults <end>\n",
      "[[1, 157, 119, 26, 1529, 177, 1530, 2]]\n",
      "[1, 1, 157, 119, 26, 1529, 177, 1530, 2, 2]\n",
      "[   1   70  153 2158   10 2159  185   11]\n",
      "Input: <start> few people will admit their faults <end>\n",
      "Predicted translation: ['<start> कुछ लोग संविधान को सुधारना चाहते हैं']\n",
      "Epoch 24 Batch 0 Loss 0.0842 Accuracy 0.3460\n",
      "Epoch 24 Batch 50 Loss 0.1038 Accuracy 0.3060\n",
      "Epoch 24 Batch 100 Loss 0.1125 Accuracy 0.3043\n",
      "Epoch 24 Loss 0.1146 Accuracy 0.3043\n",
      "Time taken for 1 epoch: 4.189028024673462 secs\n",
      "\n",
      "<start> he doesnt have long to live <end>\n",
      "[[1, 9, 273, 14, 78, 4, 99, 2]]\n",
      "[1, 1, 9, 273, 14, 78, 4, 99, 2, 2]\n",
      "[   1   48   42 1518    9   23   97   57    5    3]\n",
      "Input: <start> he doesnt have long to live <end>\n",
      "Predicted translation: ['<start> उसके पास जीने के लिए ज़्यादा समय नहीं है']\n",
      "Epoch 25 Batch 0 Loss 0.0558 Accuracy 0.3259\n",
      "Epoch 25 Batch 50 Loss 0.0974 Accuracy 0.3072\n",
      "Epoch 25 Batch 100 Loss 0.1058 Accuracy 0.3048\n",
      "Saving checkpoint for epoch 25 at /content/drive/MyDrive/training_checkpoints/transformer/ckpt-16\n",
      "Epoch 25 Loss 0.1078 Accuracy 0.3045\n",
      "Time taken for 1 epoch: 5.956194639205933 secs\n",
      "\n",
      "<start> we painted the door green <end>\n",
      "[[1, 27, 1238, 3, 164, 1239, 2]]\n",
      "[1, 1, 27, 1238, 3, 164, 1239, 2, 2]\n",
      "[   1  148  289   10 1410  439    7 1411   58]\n",
      "Input: <start> we painted the door green <end>\n",
      "Predicted translation: ['<start> हमने दरवाज़े को हरे रंग से पोत दिया']\n",
      "Epoch 26 Batch 0 Loss 0.1220 Accuracy 0.3326\n",
      "Epoch 26 Batch 50 Loss 0.1004 Accuracy 0.3037\n",
      "Epoch 26 Batch 100 Loss 0.1100 Accuracy 0.3044\n",
      "Epoch 26 Loss 0.1095 Accuracy 0.3041\n",
      "Time taken for 1 epoch: 4.178445816040039 secs\n",
      "\n",
      "<start> did you do your homework <end>\n",
      "[[1, 65, 6, 21, 31, 413, 2]]\n",
      "[1, 1, 65, 6, 21, 31, 413, 2, 2]\n",
      "[  1 142  84 460  26 118  14]\n",
      "Input: <start> did you do your homework <end>\n",
      "Predicted translation: ['<start> तुमने अपना होमवर्क कर लिया क्या']\n",
      "Epoch 27 Batch 0 Loss 0.1292 Accuracy 0.3103\n",
      "Epoch 27 Batch 50 Loss 0.0965 Accuracy 0.3021\n",
      "Epoch 27 Batch 100 Loss 0.1143 Accuracy 0.3025\n",
      "Epoch 27 Loss 0.1180 Accuracy 0.3037\n",
      "Time taken for 1 epoch: 5.600414037704468 secs\n",
      "\n",
      "<start> i bought two dozen pencils <end>\n",
      "[[1, 5, 248, 75, 812, 854, 2]]\n",
      "[1, 1, 5, 248, 75, 812, 854, 2, 2]\n",
      "[   1   34   72  881 1422  935]\n",
      "Input: <start> i bought two dozen pencils <end>\n",
      "Predicted translation: ['<start> मैंने दो दर्जन पेनसिलें खरीदीं']\n",
      "Epoch 28 Batch 0 Loss 0.1434 Accuracy 0.3326\n",
      "Epoch 28 Batch 50 Loss 0.0892 Accuracy 0.3086\n",
      "Epoch 28 Batch 100 Loss 0.0999 Accuracy 0.3046\n",
      "Epoch 28 Loss 0.1067 Accuracy 0.3050\n",
      "Time taken for 1 epoch: 4.299047946929932 secs\n",
      "\n",
      "<start> take back what you said about me being stingy <end>\n",
      "[[1, 66, 89, 32, 6, 190, 71, 19, 460, 961, 2]]\n",
      "[1, 1, 66, 89, 32, 6, 190, 71, 19, 460, 961, 2, 2]\n",
      "[   1  105  142   27 1054  151    9  120    4  146   15   28   52   60\n",
      "   10  121  832]\n",
      "Input: <start> take back what you said about me being stingy <end>\n",
      "Predicted translation: ['<start> जो तुमने मेरे कंजूस होने के बारे में कहा था comma उस बात को वापस लो']\n",
      "Epoch 29 Batch 0 Loss 0.0833 Accuracy 0.2924\n",
      "Epoch 29 Batch 50 Loss 0.0925 Accuracy 0.3048\n",
      "Epoch 29 Batch 100 Loss 0.1015 Accuracy 0.3053\n",
      "Epoch 29 Loss 0.1030 Accuracy 0.3048\n",
      "Time taken for 1 epoch: 5.51594614982605 secs\n",
      "\n",
      "<start> we rested for a while <end>\n",
      "[[1, 27, 1156, 18, 7, 243, 2]]\n",
      "[1, 1, 27, 1156, 18, 7, 243, 2, 2]\n",
      "[  1 148 181 114 337  50]\n",
      "Input: <start> we rested for a while <end>\n",
      "Predicted translation: ['<start> हमने थोड़ी देर आराम किया']\n",
      "Epoch 30 Batch 0 Loss 0.1787 Accuracy 0.3058\n",
      "Epoch 30 Batch 50 Loss 0.0918 Accuracy 0.3043\n",
      "Epoch 30 Batch 100 Loss 0.1031 Accuracy 0.3046\n",
      "Saving checkpoint for epoch 30 at /content/drive/MyDrive/training_checkpoints/transformer/ckpt-17\n",
      "Epoch 30 Loss 0.1082 Accuracy 0.3043\n",
      "Time taken for 1 epoch: 4.956484317779541 secs\n",
      "\n",
      "<start> youve got nothing to complain of <end>\n",
      "[[1, 495, 129, 122, 4, 1521, 10, 2]]\n",
      "[1, 1, 495, 129, 122, 4, 1521, 10, 2, 2]\n",
      "[   1   53   42 1090   38    9   23   10   33  208    5    3]\n",
      "Input: <start> youve got nothing to complain of <end>\n",
      "Predicted translation: ['<start> तुम्हारे पास शिकायत करने के लिए को भी वजह नहीं है']\n",
      "Epoch 31 Batch 0 Loss 0.0572 Accuracy 0.3058\n",
      "Epoch 31 Batch 50 Loss 0.0937 Accuracy 0.3064\n",
      "Epoch 31 Batch 100 Loss 0.0955 Accuracy 0.3058\n",
      "Epoch 31 Loss 0.1000 Accuracy 0.3049\n",
      "Time taken for 1 epoch: 5.570476055145264 secs\n",
      "\n",
      "<start> he is used to hard work <end>\n",
      "[[1, 9, 8, 247, 4, 180, 92, 2]]\n",
      "[1, 1, 9, 8, 247, 4, 180, 92, 2, 2]\n",
      "[   1    6   35  338 2494  918    3]\n",
      "Input: <start> he is used to hard work <end>\n",
      "Predicted translation: ['<start> वह अपने बाल कटवाना चाह्ती है']\n",
      "Epoch 32 Batch 0 Loss 0.0939 Accuracy 0.3237\n",
      "Epoch 32 Batch 50 Loss 0.0915 Accuracy 0.3066\n",
      "Epoch 32 Batch 100 Loss 0.0993 Accuracy 0.3042\n",
      "Epoch 32 Loss 0.1058 Accuracy 0.3045\n",
      "Time taken for 1 epoch: 4.348913908004761 secs\n",
      "\n",
      "<start> it doesnt matter whether he agrees or not <end>\n",
      "[[1, 15, 273, 468, 344, 9, 1799, 141, 30, 2]]\n",
      "[1, 1, 15, 273, 468, 344, 9, 1799, 141, 30, 2, 2]\n",
      "[   1    6 1200  158   79 1200   81   70  295    5  316]\n",
      "Input: <start> it doesnt matter whether he agrees or not <end>\n",
      "Predicted translation: ['<start> वह माने या न माने उससे कुछ फ़र्क नहीं पड़ता']\n",
      "Epoch 33 Batch 0 Loss 0.0882 Accuracy 0.3214\n",
      "Epoch 33 Batch 50 Loss 0.0912 Accuracy 0.3081\n",
      "Epoch 33 Batch 100 Loss 0.1012 Accuracy 0.3060\n",
      "Epoch 33 Loss 0.1018 Accuracy 0.3052\n",
      "Time taken for 1 epoch: 6.134389638900757 secs\n",
      "\n",
      "<start> i tried to give her some money COMMA but she wouldnt take any <end>\n",
      "[[1, 5, 192, 4, 153, 33, 134, 82, 12, 76, 16, 576, 66, 128, 2]]\n",
      "[1, 1, 5, 192, 4, 153, 33, 134, 82, 12, 76, 16, 576, 66, 128, 2, 2]\n",
      "[  1  34  75 101 366  13 195 138  18  19 690  26  58]\n",
      "Input: <start> i tried to give her some money COMMA but she wouldnt take any <end>\n",
      "Predicted translation: ['<start> मैंने उसको पैसे देने की कोशिश करी पर उसने इनकार कर दिया']\n",
      "Epoch 34 Batch 0 Loss 0.1190 Accuracy 0.2991\n",
      "Epoch 34 Batch 50 Loss 0.0856 Accuracy 0.3068\n",
      "Epoch 34 Batch 100 Loss 0.0981 Accuracy 0.3050\n",
      "Epoch 34 Loss 0.1002 Accuracy 0.3050\n",
      "Time taken for 1 epoch: 4.366365194320679 secs\n",
      "\n",
      "<start> can we have a talk <end>\n",
      "[[1, 40, 27, 14, 7, 261, 2]]\n",
      "[1, 1, 40, 27, 14, 7, 261, 2, 2]\n",
      "[  1 242 305  28  18   8  54 711  83  20]\n",
      "Input: <start> can we have a talk <end>\n",
      "Predicted translation: ['<start> माफ़ कीजिएगा comma पर मैं कोई बैठा हुआ हूँ']\n",
      "Epoch 35 Batch 0 Loss 0.0638 Accuracy 0.3348\n",
      "Epoch 35 Batch 50 Loss 0.0838 Accuracy 0.3083\n",
      "Epoch 35 Batch 100 Loss 0.0924 Accuracy 0.3069\n",
      "Saving checkpoint for epoch 35 at /content/drive/MyDrive/training_checkpoints/transformer/ckpt-18\n",
      "Epoch 35 Loss 0.0962 Accuracy 0.3058\n",
      "Time taken for 1 epoch: 5.39601469039917 secs\n",
      "\n",
      "<start> give up smoking if you want to live long <end>\n",
      "[[1, 153, 45, 283, 61, 6, 59, 4, 99, 78, 2]]\n",
      "[1, 1, 153, 45, 283, 61, 6, 59, 4, 99, 78, 2, 2]\n",
      "[   1  117  576  456 1094  185   16   40  262  361  150   72]\n",
      "Input: <start> give up smoking if you want to live long <end>\n",
      "Predicted translation: ['<start> अगर लम्बी ज़िन्दगी जीना चाहते हो तो सिगरेट पीना छोड़ दो']\n",
      "Epoch 36 Batch 0 Loss 0.0459 Accuracy 0.2902\n",
      "Epoch 36 Batch 50 Loss 0.0793 Accuracy 0.3064\n",
      "Epoch 36 Batch 100 Loss 0.0925 Accuracy 0.3052\n",
      "Epoch 36 Loss 0.0927 Accuracy 0.3053\n",
      "Time taken for 1 epoch: 4.809545516967773 secs\n",
      "\n",
      "<start> i ran away in a hurry <end>\n",
      "[[1, 5, 267, 151, 11, 7, 352, 2]]\n",
      "[1, 1, 5, 267, 151, 11, 7, 352, 2, 2]\n",
      "[   1    8 1272    4  856   30]\n",
      "Input: <start> i ran away in a hurry <end>\n",
      "Predicted translation: ['<start> मैं हड़बड़ी में दौड़ गया']\n",
      "Epoch 37 Batch 0 Loss 0.0669 Accuracy 0.3214\n",
      "Epoch 37 Batch 50 Loss 0.0779 Accuracy 0.3048\n",
      "Epoch 37 Batch 100 Loss 0.0912 Accuracy 0.3064\n",
      "Epoch 37 Loss 0.0967 Accuracy 0.3057\n",
      "Time taken for 1 epoch: 4.4531636238098145 secs\n",
      "\n",
      "<start> who is the author of the novel <end>\n",
      "[[1, 126, 8, 3, 942, 10, 3, 503, 2]]\n",
      "[1, 1, 126, 8, 3, 942, 10, 3, 503, 2, 2]\n",
      "[   1   31  545   17 1033  390    3]\n",
      "Input: <start> who is the author of the novel <end>\n",
      "Predicted translation: ['<start> इस उपन्यास का लेखक कौन है']\n",
      "Epoch 38 Batch 0 Loss 0.2461 Accuracy 0.2656\n",
      "Epoch 38 Batch 50 Loss 0.0778 Accuracy 0.3079\n",
      "Epoch 38 Batch 100 Loss 0.0822 Accuracy 0.3077\n",
      "Epoch 38 Loss 0.0875 Accuracy 0.3064\n",
      "Time taken for 1 epoch: 5.107598304748535 secs\n",
      "\n",
      "<start> she cooked us a wonderful meal <end>\n",
      "[[1, 16, 615, 94, 7, 931, 932, 2]]\n",
      "[1, 1, 16, 615, 94, 7, 931, 932, 2, 2]\n",
      "[   1   19  145   23   21   41 1025 1026  288   50]\n",
      "Input: <start> she cooked us a wonderful meal <end>\n",
      "Predicted translation: ['<start> उसने हमारे लिए बहुत ही शानदार भोजन तैयार किया']\n",
      "Epoch 39 Batch 0 Loss 0.0771 Accuracy 0.3125\n",
      "Epoch 39 Batch 50 Loss 0.0772 Accuracy 0.3057\n",
      "Epoch 39 Batch 100 Loss 0.0890 Accuracy 0.3059\n",
      "Epoch 39 Loss 0.0916 Accuracy 0.3060\n",
      "Time taken for 1 epoch: 4.551391363143921 secs\n",
      "\n",
      "<start> i spent hours looking for the key that i had dropped <end>\n",
      "[[1, 5, 787, 286, 252, 18, 3, 628, 23, 5, 49, 1997, 2]]\n",
      "[1, 1, 5, 787, 286, 252, 18, 3, 628, 23, 5, 49, 1997, 2, 2]\n",
      "[  1  12  22 161  10 136 219   9 230  35 216  10  48 460   9  64  98  38\n",
      "  13 286   3]\n",
      "Input: <start> i spent hours looking for the key that i had dropped <end>\n",
      "Predicted translation: ['<start> मुझे एक रात को खाना खाने के बाद अपने भाई को उसके होमवर्क के साथ मदद करने की आदत है']\n",
      "Epoch 40 Batch 0 Loss 0.0536 Accuracy 0.2746\n",
      "Epoch 40 Batch 50 Loss 0.0818 Accuracy 0.3100\n",
      "Epoch 40 Batch 100 Loss 0.0860 Accuracy 0.3071\n",
      "Saving checkpoint for epoch 40 at /content/drive/MyDrive/training_checkpoints/transformer/ckpt-19\n",
      "Epoch 40 Loss 0.0904 Accuracy 0.3061\n",
      "Time taken for 1 epoch: 6.110656976699829 secs\n",
      "\n",
      "<start> they will fall in love with each other <end>\n",
      "[[1, 51, 26, 1050, 11, 498, 34, 433, 231, 2]]\n",
      "[1, 1, 51, 26, 1050, 11, 498, 34, 433, 231, 2, 2]\n",
      "[  1 347 375   7 534  16 198]\n",
      "Input: <start> they will fall in love with each other <end>\n",
      "Predicted translation: ['<start> उन्हें एकदूसरे से प्यार हो जाएगा']\n",
      "Epoch 41 Batch 0 Loss 0.0772 Accuracy 0.3058\n",
      "Epoch 41 Batch 50 Loss 0.0752 Accuracy 0.3069\n",
      "Epoch 41 Batch 100 Loss 0.0910 Accuracy 0.3051\n",
      "Epoch 41 Loss 0.0911 Accuracy 0.3060\n",
      "Time taken for 1 epoch: 4.370010137557983 secs\n",
      "\n",
      "<start> without a dictionary COMMA it would be hard to study english <end>\n",
      "[[1, 172, 7, 728, 12, 15, 74, 37, 180, 4, 323, 93, 2]]\n",
      "[1, 1, 172, 7, 728, 12, 15, 74, 37, 180, 4, 323, 93, 2, 2]\n",
      "[   1 1148 2435    9  186  115   13  499   56   21  196  100]\n",
      "Input: <start> without a dictionary COMMA it would be hard to study english <end>\n",
      "Predicted translation: ['<start> शब्दकोश डिक्शनरी के बिना अंग्रेज़ी की पढ़ाई करना बहुत मुश्किल होगा']\n",
      "Epoch 42 Batch 0 Loss 0.0942 Accuracy 0.3125\n",
      "Epoch 42 Batch 50 Loss 0.0724 Accuracy 0.3102\n",
      "Epoch 42 Batch 100 Loss 0.0816 Accuracy 0.3073\n",
      "Epoch 42 Loss 0.0844 Accuracy 0.3069\n",
      "Time taken for 1 epoch: 5.445777893066406 secs\n",
      "\n",
      "<start> you should make use of this chance <end>\n",
      "[[1, 6, 90, 112, 148, 10, 17, 760, 2]]\n",
      "[1, 1, 6, 90, 112, 148, 10, 17, 760, 2, 2]\n",
      "[   1   74   31  805   17  265 1870   62]\n",
      "Input: <start> you should make use of this chance <end>\n",
      "Predicted translation: ['<start> तुम्हे इस मौके का फ़ायदा उठाना चाहिए']\n",
      "Epoch 43 Batch 0 Loss 0.0704 Accuracy 0.3013\n",
      "Epoch 43 Batch 50 Loss 0.0749 Accuracy 0.3067\n",
      "Epoch 43 Batch 100 Loss 0.0858 Accuracy 0.3076\n",
      "Epoch 43 Loss 0.0878 Accuracy 0.3064\n",
      "Time taken for 1 epoch: 4.20564866065979 secs\n",
      "\n",
      "<start> i was ill at ease because i didnt speak french <end>\n",
      "[[1, 5, 20, 88, 29, 1936, 155, 5, 105, 102, 325, 2]]\n",
      "[1, 1, 5, 20, 88, 29, 1936, 155, 5, 105, 102, 325, 2, 2]\n",
      "[   1    8  590   15  298   12 2306 1142    5  428   51]\n",
      "Input: <start> i was ill at ease because i didnt speak french <end>\n",
      "Predicted translation: ['<start> मैं परेशान था क्योंकि मुझे फ़्रांसीसी बोलनी नहीं आती थी']\n",
      "Epoch 44 Batch 0 Loss 0.1138 Accuracy 0.2589\n",
      "Epoch 44 Batch 50 Loss 0.0676 Accuracy 0.3040\n",
      "Epoch 44 Batch 100 Loss 0.0809 Accuracy 0.3060\n",
      "Epoch 44 Loss 0.0840 Accuracy 0.3060\n",
      "Time taken for 1 epoch: 5.103885650634766 secs\n",
      "\n",
      "<start> i motioned for her to sit down <end>\n",
      "[[1, 5, 1385, 18, 33, 4, 924, 143, 2]]\n",
      "[1, 1, 5, 1385, 18, 33, 4, 924, 143, 2, 2]\n",
      "[   1   34   81 1009   86   17 1620   50]\n",
      "Input: <start> i motioned for her to sit down <end>\n",
      "Predicted translation: ['<start> मैंने उससे बैठ जाने का इशारा किया']\n",
      "Epoch 45 Batch 0 Loss 0.0888 Accuracy 0.2857\n",
      "Epoch 45 Batch 50 Loss 0.0648 Accuracy 0.3081\n",
      "Epoch 45 Batch 100 Loss 0.0740 Accuracy 0.3075\n",
      "Saving checkpoint for epoch 45 at /content/drive/MyDrive/training_checkpoints/transformer/ckpt-20\n",
      "Epoch 45 Loss 0.0798 Accuracy 0.3072\n",
      "Time taken for 1 epoch: 4.822283983230591 secs\n",
      "\n",
      "<start> the shop carried leather goods <end>\n",
      "[[1, 3, 940, 1403, 1404, 1405, 2]]\n",
      "[1, 1, 3, 940, 1403, 1404, 1405, 2, 2]\n",
      "[   1    6  729 1646    9 1647 1648   51]\n",
      "Input: <start> the shop carried leather goods <end>\n",
      "Predicted translation: ['<start> वह दुकान चमड़े के उत्पाद बेचती थी']\n",
      "Epoch 46 Batch 0 Loss 0.0817 Accuracy 0.3214\n",
      "Epoch 46 Batch 50 Loss 0.0721 Accuracy 0.3076\n",
      "Epoch 46 Batch 100 Loss 0.0832 Accuracy 0.3063\n",
      "Epoch 46 Loss 0.0863 Accuracy 0.3063\n",
      "Time taken for 1 epoch: 5.066129207611084 secs\n",
      "\n",
      "<start> this medicine will do you good <end>\n",
      "[[1, 17, 293, 26, 21, 6, 131, 2]]\n",
      "[1, 1, 17, 293, 26, 21, 6, 131, 2, 2]\n",
      "[   1   29  424  278  449 1031]\n",
      "Input: <start> this medicine will do you good <end>\n",
      "Predicted translation: ['<start> यह दवाई तुम्हारा भला करेगी']\n",
      "Epoch 47 Batch 0 Loss 0.1418 Accuracy 0.3304\n",
      "Epoch 47 Batch 50 Loss 0.0719 Accuracy 0.3086\n",
      "Epoch 47 Batch 100 Loss 0.0775 Accuracy 0.3080\n",
      "Epoch 47 Loss 0.0832 Accuracy 0.3070\n",
      "Time taken for 1 epoch: 4.381994962692261 secs\n",
      "\n",
      "<start> when you leave the room COMMA please make sure you turn off the lights <end>\n",
      "[[1, 53, 6, 169, 3, 106, 12, 80, 112, 335, 6, 162, 115, 3, 770, 2]]\n",
      "[1, 1, 53, 6, 169, 3, 106, 12, 80, 112, 335, 6, 162, 115, 3, 770, 2, 2]\n",
      "[   1  184    7 2502    7   89   28  412  821  173   26 2503]\n",
      "Input: <start> when you leave the room COMMA please make sure you turn off the lights <end>\n",
      "Predicted translation: ['<start> कमरे से निकलने से पहले comma कृपया बत्तियाँ बंद कर दीजिएगा']\n",
      "Epoch 48 Batch 0 Loss 0.0478 Accuracy 0.3504\n",
      "Epoch 48 Batch 50 Loss 0.0598 Accuracy 0.3082\n",
      "Epoch 48 Batch 100 Loss 0.0687 Accuracy 0.3089\n",
      "Epoch 48 Loss 0.0750 Accuracy 0.3078\n",
      "Time taken for 1 epoch: 4.99911093711853 secs\n",
      "\n",
      "<start> can i see your passport <end>\n",
      "[[1, 40, 5, 84, 31, 810, 2]]\n",
      "[1, 1, 40, 5, 84, 31, 810, 2, 2]\n",
      "[  1   8 454 877 228  59  20  14]\n",
      "Input: <start> can i see your passport <end>\n",
      "Predicted translation: ['<start> मैं आपका पासपोर्ट देख सकता हूँ क्या']\n",
      "Epoch 49 Batch 0 Loss 0.0383 Accuracy 0.3036\n",
      "Epoch 49 Batch 50 Loss 0.0673 Accuracy 0.3065\n",
      "Epoch 49 Batch 100 Loss 0.0813 Accuracy 0.3072\n",
      "Epoch 49 Loss 0.0828 Accuracy 0.3065\n",
      "Time taken for 1 epoch: 4.132445573806763 secs\n",
      "\n",
      "<start> sometimes she tried talking to him about india <end>\n",
      "[[1, 1056, 16, 192, 282, 4, 28, 71, 62, 2]]\n",
      "[1, 1, 1056, 16, 192, 282, 4, 28, 71, 62, 2, 2]\n",
      "[  1   6 812  81  77  13  60  38  13 195  50 227  51]\n",
      "Input: <start> sometimes she tried talking to him about india <end>\n",
      "Predicted translation: ['<start> वह कभीकभी उससे भारत की बात करने की कोशिश किया करती थी']\n",
      "Epoch 50 Batch 0 Loss 0.0448 Accuracy 0.3504\n",
      "Epoch 50 Batch 50 Loss 0.0688 Accuracy 0.3101\n",
      "Epoch 50 Batch 100 Loss 0.0803 Accuracy 0.3077\n",
      "Saving checkpoint for epoch 50 at /content/drive/MyDrive/training_checkpoints/transformer/ckpt-21\n",
      "Epoch 50 Loss 0.0816 Accuracy 0.3066\n",
      "Time taken for 1 epoch: 5.317030668258667 secs\n",
      "\n",
      "<start> the man who is standing there is my father <end>\n",
      "[[1, 3, 86, 126, 8, 428, 43, 8, 13, 67, 2]]\n",
      "[1, 1, 3, 86, 126, 8, 428, 43, 8, 13, 67, 2, 2]\n",
      "[  1 140  18 680 111  99  27 226  11]\n",
      "Input: <start> the man who is standing there is my father <end>\n",
      "Predicted translation: ['<start> वहाँ पर खड़े हुए वे मेरे पिता हैं']\n"
     ]
    },
    {
     "data": {
      "text/plain": [
       "<Figure size 1600x800 with 0 Axes>"
      ]
     },
     "metadata": {},
     "output_type": "display_data"
    },
    {
     "data": {
      "text/plain": [
       "<Figure size 1600x800 with 0 Axes>"
      ]
     },
     "metadata": {},
     "output_type": "display_data"
    },
    {
     "data": {
      "text/plain": [
       "<Figure size 1600x800 with 0 Axes>"
      ]
     },
     "metadata": {},
     "output_type": "display_data"
    },
    {
     "data": {
      "text/plain": [
       "<Figure size 1600x800 with 0 Axes>"
      ]
     },
     "metadata": {},
     "output_type": "display_data"
    },
    {
     "data": {
      "text/plain": [
       "<Figure size 1600x800 with 0 Axes>"
      ]
     },
     "metadata": {},
     "output_type": "display_data"
    },
    {
     "data": {
      "text/plain": [
       "<Figure size 1600x800 with 0 Axes>"
      ]
     },
     "metadata": {},
     "output_type": "display_data"
    },
    {
     "data": {
      "text/plain": [
       "<Figure size 1600x800 with 0 Axes>"
      ]
     },
     "metadata": {},
     "output_type": "display_data"
    },
    {
     "data": {
      "text/plain": [
       "<Figure size 1600x800 with 0 Axes>"
      ]
     },
     "metadata": {},
     "output_type": "display_data"
    },
    {
     "data": {
      "text/plain": [
       "<Figure size 1600x800 with 0 Axes>"
      ]
     },
     "metadata": {},
     "output_type": "display_data"
    },
    {
     "data": {
      "text/plain": [
       "<Figure size 1600x800 with 0 Axes>"
      ]
     },
     "metadata": {},
     "output_type": "display_data"
    },
    {
     "data": {
      "text/plain": [
       "<Figure size 1600x800 with 0 Axes>"
      ]
     },
     "metadata": {},
     "output_type": "display_data"
    },
    {
     "data": {
      "text/plain": [
       "<Figure size 1600x800 with 0 Axes>"
      ]
     },
     "metadata": {},
     "output_type": "display_data"
    },
    {
     "data": {
      "text/plain": [
       "<Figure size 1600x800 with 0 Axes>"
      ]
     },
     "metadata": {},
     "output_type": "display_data"
    },
    {
     "data": {
      "text/plain": [
       "<Figure size 1600x800 with 0 Axes>"
      ]
     },
     "metadata": {},
     "output_type": "display_data"
    },
    {
     "data": {
      "text/plain": [
       "<Figure size 1600x800 with 0 Axes>"
      ]
     },
     "metadata": {},
     "output_type": "display_data"
    },
    {
     "data": {
      "text/plain": [
       "<Figure size 1600x800 with 0 Axes>"
      ]
     },
     "metadata": {},
     "output_type": "display_data"
    },
    {
     "data": {
      "text/plain": [
       "<Figure size 1600x800 with 0 Axes>"
      ]
     },
     "metadata": {},
     "output_type": "display_data"
    },
    {
     "data": {
      "text/plain": [
       "<Figure size 1600x800 with 0 Axes>"
      ]
     },
     "metadata": {},
     "output_type": "display_data"
    },
    {
     "data": {
      "text/plain": [
       "<Figure size 1600x800 with 0 Axes>"
      ]
     },
     "metadata": {},
     "output_type": "display_data"
    },
    {
     "data": {
      "text/plain": [
       "<Figure size 1600x800 with 0 Axes>"
      ]
     },
     "metadata": {},
     "output_type": "display_data"
    },
    {
     "data": {
      "text/plain": [
       "<Figure size 1600x800 with 0 Axes>"
      ]
     },
     "metadata": {},
     "output_type": "display_data"
    },
    {
     "data": {
      "text/plain": [
       "<Figure size 1600x800 with 0 Axes>"
      ]
     },
     "metadata": {},
     "output_type": "display_data"
    },
    {
     "data": {
      "text/plain": [
       "<Figure size 1600x800 with 0 Axes>"
      ]
     },
     "metadata": {},
     "output_type": "display_data"
    },
    {
     "data": {
      "text/plain": [
       "<Figure size 1600x800 with 0 Axes>"
      ]
     },
     "metadata": {},
     "output_type": "display_data"
    },
    {
     "data": {
      "text/plain": [
       "<Figure size 1600x800 with 0 Axes>"
      ]
     },
     "metadata": {},
     "output_type": "display_data"
    },
    {
     "data": {
      "text/plain": [
       "<Figure size 1600x800 with 0 Axes>"
      ]
     },
     "metadata": {},
     "output_type": "display_data"
    },
    {
     "data": {
      "text/plain": [
       "<Figure size 1600x800 with 0 Axes>"
      ]
     },
     "metadata": {},
     "output_type": "display_data"
    },
    {
     "data": {
      "text/plain": [
       "<Figure size 1600x800 with 0 Axes>"
      ]
     },
     "metadata": {},
     "output_type": "display_data"
    },
    {
     "data": {
      "text/plain": [
       "<Figure size 1600x800 with 0 Axes>"
      ]
     },
     "metadata": {},
     "output_type": "display_data"
    },
    {
     "data": {
      "text/plain": [
       "<Figure size 1600x800 with 0 Axes>"
      ]
     },
     "metadata": {},
     "output_type": "display_data"
    },
    {
     "data": {
      "text/plain": [
       "<Figure size 1600x800 with 0 Axes>"
      ]
     },
     "metadata": {},
     "output_type": "display_data"
    },
    {
     "data": {
      "text/plain": [
       "<Figure size 1600x800 with 0 Axes>"
      ]
     },
     "metadata": {},
     "output_type": "display_data"
    },
    {
     "data": {
      "text/plain": [
       "<Figure size 1600x800 with 0 Axes>"
      ]
     },
     "metadata": {},
     "output_type": "display_data"
    },
    {
     "data": {
      "text/plain": [
       "<Figure size 1600x800 with 0 Axes>"
      ]
     },
     "metadata": {},
     "output_type": "display_data"
    },
    {
     "data": {
      "text/plain": [
       "<Figure size 1600x800 with 0 Axes>"
      ]
     },
     "metadata": {},
     "output_type": "display_data"
    },
    {
     "data": {
      "text/plain": [
       "<Figure size 1600x800 with 0 Axes>"
      ]
     },
     "metadata": {},
     "output_type": "display_data"
    },
    {
     "data": {
      "text/plain": [
       "<Figure size 1600x800 with 0 Axes>"
      ]
     },
     "metadata": {},
     "output_type": "display_data"
    },
    {
     "data": {
      "text/plain": [
       "<Figure size 1600x800 with 0 Axes>"
      ]
     },
     "metadata": {},
     "output_type": "display_data"
    },
    {
     "data": {
      "text/plain": [
       "<Figure size 1600x800 with 0 Axes>"
      ]
     },
     "metadata": {},
     "output_type": "display_data"
    },
    {
     "data": {
      "text/plain": [
       "<Figure size 1600x800 with 0 Axes>"
      ]
     },
     "metadata": {},
     "output_type": "display_data"
    },
    {
     "data": {
      "text/plain": [
       "<Figure size 1600x800 with 0 Axes>"
      ]
     },
     "metadata": {},
     "output_type": "display_data"
    },
    {
     "data": {
      "text/plain": [
       "<Figure size 1600x800 with 0 Axes>"
      ]
     },
     "metadata": {},
     "output_type": "display_data"
    },
    {
     "data": {
      "text/plain": [
       "<Figure size 1600x800 with 0 Axes>"
      ]
     },
     "metadata": {},
     "output_type": "display_data"
    },
    {
     "data": {
      "text/plain": [
       "<Figure size 1600x800 with 0 Axes>"
      ]
     },
     "metadata": {},
     "output_type": "display_data"
    },
    {
     "data": {
      "text/plain": [
       "<Figure size 1600x800 with 0 Axes>"
      ]
     },
     "metadata": {},
     "output_type": "display_data"
    },
    {
     "data": {
      "text/plain": [
       "<Figure size 1600x800 with 0 Axes>"
      ]
     },
     "metadata": {},
     "output_type": "display_data"
    },
    {
     "data": {
      "text/plain": [
       "<Figure size 1600x800 with 0 Axes>"
      ]
     },
     "metadata": {},
     "output_type": "display_data"
    },
    {
     "data": {
      "text/plain": [
       "<Figure size 1600x800 with 0 Axes>"
      ]
     },
     "metadata": {},
     "output_type": "display_data"
    },
    {
     "data": {
      "text/plain": [
       "<Figure size 1600x800 with 0 Axes>"
      ]
     },
     "metadata": {},
     "output_type": "display_data"
    },
    {
     "data": {
      "text/plain": [
       "<Figure size 1600x800 with 0 Axes>"
      ]
     },
     "metadata": {},
     "output_type": "display_data"
    }
   ],
   "source": [
    "for epoch in range(EPOCHS):\n",
    "    start = time.time()\n",
    "\n",
    "    train_loss.reset_states()\n",
    "    train_accuracy.reset_states()\n",
    "\n",
    "    for (batch, (inp, tar)) in enumerate(train_dataset):\n",
    "        train_step(inp, tar)\n",
    "\n",
    "        if batch % 50 == 0:\n",
    "            print ('Epoch {} Batch {} Loss {:.4f} Accuracy {:.4f}'.format(\n",
    "              epoch + 1, batch, train_loss.result(), train_accuracy.result()))\n",
    "\n",
    "    if (epoch + 1) % 5 == 0:\n",
    "        ckpt_save_path = ckpt_manager.save()\n",
    "        print ('Saving checkpoint for epoch {} at {}'.format(epoch+1,\n",
    "                                                             ckpt_save_path))\n",
    "\n",
    "    print ('Epoch {} Loss {:.4f} Accuracy {:.4f}'.format(epoch + 1,\n",
    "                                                train_loss.result(),\n",
    "                                                train_accuracy.result()))\n",
    "\n",
    "    print ('Time taken for 1 epoch: {} secs\\n'.format(time.time() - start))\n",
    "\n",
    "    # try a translation to see where we at\n",
    "    try:\n",
    "        translate(None, plot=True)\n",
    "    except Exception:\n",
    "        continue"
   ]
  },
  {
   "cell_type": "markdown",
   "id": "595f26bc",
   "metadata": {
    "id": "595f26bc"
   },
   "source": [
    "## Model evaluation\n",
    "\n",
    "The following steps are used for evaluation:\n",
    "\n",
    "* Encode the input sentence using our chinese tokenizer (`tokenizer_zh`). Moreover, add the start and end sentinel tokens so the input is equivalent to what the model is trained with. This is the encoder input.\n",
    "* The decoder input is the `start token == tokenizer_en.vocab_size`.\n",
    "* Calculate the padding masks and the look ahead masks.\n",
    "* The `decoder` then outputs the predictions by looking at the `encoder output` and its own output (self-attention).\n",
    "* Select the last word and calculate the argmax of that.\n",
    "* Concatentate the predicted word to the decoder input as pass it to the decoder.\n",
    "* In this approach, the decoder predicts the next word based on the previous words it predicted.\n",
    "\n",
    "Note: The model used here has less capacity to keep the example relatively faster so the predictions maybe less right. To reproduce the results in the original Transformer paper, use the entire dataset and base transformer model or transformer XL, by changing our hyperparameters above."
   ]
  },
  {
   "cell_type": "code",
   "execution_count": 59,
   "id": "f08d6da3",
   "metadata": {
    "id": "f08d6da3"
   },
   "outputs": [],
   "source": [
    "def evaluate(inp_sentence):\n",
    "    #start_token = [tokenizer_pt.vocab_size]\n",
    "    #end_token = [tokenizer_pt.vocab_size + 1]\n",
    "\n",
    "    #inp_sentence = start_token + tokenizer_pt.encode(inp_sentence) + end_token\n",
    "    #inp_sentence = [targ_lang.word_index['<start>']]\n",
    "    #inp_sentence.extend(inp_sentence)\n",
    "    #inp_sentence.append(targ_lang.word_index['<end>'])\n",
    "    inp_sentence = [targ_lang.word_index['<start>']] + inp_sentence[0] + [targ_lang.word_index['<end>']]\n",
    "    print(inp_sentence)\n",
    "    encoder_input = tf.expand_dims(inp_sentence, 0)\n",
    "\n",
    "    #decoder_input = [tokenizer_en.vocab_size]\n",
    "    decoder_input = [targ_lang.word_index['<start>']]\n",
    "    output = tf.expand_dims(decoder_input, 0)\n",
    "\n",
    "    for i in range(max_length_targ):\n",
    "        enc_padding_mask, combined_mask, dec_padding_mask = create_masks(\n",
    "            encoder_input, output)\n",
    "\n",
    "        # predictions.shape == (batch_size, seq_len, vocab_size)\n",
    "        predictions, attention_weights = transformer(encoder_input,\n",
    "                                                     output,\n",
    "                                                     False,\n",
    "                                                     enc_padding_mask,\n",
    "                                                     combined_mask,\n",
    "                                                     dec_padding_mask)\n",
    "\n",
    "        # select the last word from the seq_len dimension\n",
    "        predictions = predictions[: ,-1:, :]  # (batch_size, 1, vocab_size)\n",
    "\n",
    "        predicted_id = tf.cast(tf.argmax(predictions, axis=-1), tf.int32)\n",
    "\n",
    "        # return the result if the predicted_id is equal to the end token\n",
    "        if predicted_id == targ_lang.word_index['<end>']:\n",
    "            return tf.squeeze(output, axis=0), attention_weights\n",
    "\n",
    "        # concatentate the predicted_id to the output which is given to the decoder\n",
    "        # as its input.\n",
    "        output = tf.concat([output, predicted_id], axis=-1)\n",
    "\n",
    "    return tf.squeeze(output, axis=0), attention_weights"
   ]
  },
  {
   "cell_type": "code",
   "execution_count": 60,
   "id": "882cbaef",
   "metadata": {
    "id": "882cbaef"
   },
   "outputs": [],
   "source": [
    "def plot_attention_weights(attention, sentence, result, layer):\n",
    "    fig = plt.figure(figsize=(16, 8))\n",
    "\n",
    "    #sentence = tokenizer_pt.encode(sentence)\n",
    "    sentence = inp_lang.texts_to_sequences([sentence])\n",
    "\n",
    "    attention = tf.squeeze(attention[layer], axis=0)\n",
    "\n",
    "    for head in range(attention.shape[0]):\n",
    "        ax = fig.add_subplot(2, 4, head+1)\n",
    "\n",
    "        # plot the attention weights\n",
    "        ax.matshow(attention[head][:-1, :], cmap='viridis')\n",
    "\n",
    "        fontdict = {'fontsize': 10}\n",
    "\n",
    "        ax.set_xticks(range(len(sentence)+2))\n",
    "        ax.set_yticks(range(len(result)))\n",
    "\n",
    "        ax.set_ylim(len(result)-1.5, -0.5)\n",
    "\n",
    "        #ax.set_xticklabels(\n",
    "        #    ['<start>']+[tokenizer_pt.decode([i]) for i in sentence]+['<end>'],\n",
    "        #    fontdict=fontdict, rotation=90)\n",
    "        #ax.set_xticklabels(\n",
    "        #    ['<start>'] + [inp_lang.sequences_to_texts([i]) for i in sentence] + ['<end>'],\n",
    "        #    fontdict=fontdict, rotation=90)\n",
    "        xticks = ['<start>']\n",
    "        words = [inp_lang.sequences_to_texts([i]) for i in sentence]\n",
    "        xticks.extend(words[0][0].split(' '))\n",
    "        xticks.append('<end>')\n",
    "        print('xticks:',xticks)\n",
    "        ax.set_xticklabels(\n",
    "            xticks,\n",
    "            fontdict=fontdict, rotation=90)\n",
    "\n",
    "\n",
    "        print(result.numpy())\n",
    "        twords = [targ_lang.sequences_to_texts([result.numpy()])]\n",
    "        print(twords)\n",
    "        twords = twords[0][0].split(' ')\n",
    "        pwords = pinyin_jyutping_sentence.pinyin(' '.join(twords[1:]))\n",
    "        print(pwords)\n",
    "        yticks = [] #['<start>']\n",
    "        yticks.extend(pwords.split(' '))\n",
    "        yticks = [t for t in yticks if t]\n",
    "        print('yticks:',yticks)\n",
    "        #ax.set_yticklabels([tokenizer_en.decode([i]) for i in result\n",
    "        #                    if i < tokenizer_en.vocab_size],\n",
    "        #                   fontdict=fontdict)\n",
    "        #ax.set_yticklabels([targ_lang.sequences_to_texts([i]) for i in result\n",
    "        #                    if i < targ_lang.num_words],\n",
    "        #                   fontdict=fontdict)\n",
    "        ax.set_yticklabels(yticks,\n",
    "                           fontdict=fontdict)\n",
    "\n",
    "        ax.set_xlabel('Head {}'.format(head+1))\n",
    "\n",
    "    plt.tight_layout()"
   ]
  },
  {
   "cell_type": "code",
   "execution_count": 61,
   "id": "bbcb8ef2",
   "metadata": {
    "colab": {
     "base_uri": "https://localhost:8080/"
    },
    "id": "bbcb8ef2",
    "outputId": "f2166a3d-86ac-4914-f02c-ec1decc56807"
   },
   "outputs": [
    {
     "data": {
      "text/plain": [
       "['<start>', 'i', 'will', 'go', 'there', '<end>']"
      ]
     },
     "execution_count": 61,
     "metadata": {},
     "output_type": "execute_result"
    }
   ],
   "source": [
    "sentence = inp_lang.texts_to_sequences([\"i will go there\"])\n",
    "xticks = ['<start>']\n",
    "words = [inp_lang.sequences_to_texts([i]) for i in sentence]\n",
    "xticks.extend(words[0][0].split(' '))\n",
    "xticks.append('<end>')\n",
    "xticks"
   ]
  },
  {
   "cell_type": "code",
   "execution_count": 62,
   "id": "f1d3a81f",
   "metadata": {
    "colab": {
     "base_uri": "https://localhost:8080/"
    },
    "id": "f1d3a81f",
    "outputId": "0acef313-bad5-43c8-96d0-57c887a88021"
   },
   "outputs": [
    {
     "name": "stdout",
     "output_type": "stream",
     "text": [
      "<start> you keep a dog COMMA dont you <end>\n",
      "[[1, 6, 158, 7, 183, 12, 36, 6, 2]]\n"
     ]
    }
   ],
   "source": [
    "sentence = en[np.random.choice(len(en))]\n",
    "print(sentence)\n",
    "sentence_seq = inp_lang.texts_to_sequences([sentence])\n",
    "print(sentence_seq)"
   ]
  },
  {
   "cell_type": "code",
   "execution_count": 63,
   "id": "3d14b8aa",
   "metadata": {
    "id": "3d14b8aa"
   },
   "outputs": [],
   "source": [
    "def translate(sentence=None, plot=''):\n",
    "    if sentence is None:\n",
    "        sentence = en[np.random.choice(len(en))]\n",
    "    print(sentence)\n",
    "    sentence_seq = inp_lang.texts_to_sequences([sentence])\n",
    "    print(sentence_seq)\n",
    "\n",
    "    result, attention_weights = evaluate(sentence_seq)\n",
    "    print(result.numpy())\n",
    "\n",
    "    #predicted_sentence = tokenizer_en.decode([i for i in result\n",
    "    #                                        if i < tokenizer_en.vocab_size])\n",
    "    predicted_sentence = targ_lang.sequences_to_texts([result.numpy()])\n",
    "\n",
    "    print('Input: {}'.format(sentence))\n",
    "    print('Predicted translation: {}'.format(predicted_sentence))\n",
    "\n",
    "    if plot:\n",
    "        plot_attention_weights(attention_weights, sentence, result, plot)"
   ]
  },
  {
   "cell_type": "code",
   "execution_count": 64,
   "id": "e0f46e71",
   "metadata": {
    "colab": {
     "base_uri": "https://localhost:8080/"
    },
    "id": "e0f46e71",
    "outputId": "5c7f8107-cc76-403f-a8f5-93ceeed31cf0"
   },
   "outputs": [
    {
     "data": {
      "text/plain": [
       "[1, 16, 8, 7, 230, 27, 18, 5, 2]"
      ]
     },
     "execution_count": 64,
     "metadata": {},
     "output_type": "execute_result"
    }
   ],
   "source": [
    "[targ_lang.word_index['<start>']] + [[16, 8, 7, 230, 27, 18, 5]][0] + [targ_lang.word_index['<end>']]"
   ]
  },
  {
   "cell_type": "code",
   "execution_count": 65,
   "id": "ff344431",
   "metadata": {
    "colab": {
     "base_uri": "https://localhost:8080/"
    },
    "id": "ff344431",
    "outputId": "ca9d6729-246b-4c6a-ae7e-17cff7fb7079"
   },
   "outputs": [
    {
     "name": "stdout",
     "output_type": "stream",
     "text": [
      "i want to clean the house before my parents return\n",
      "[[5, 59, 4, 354, 3, 113, 140, 13, 290, 544]]\n",
      "[1, 5, 59, 4, 354, 3, 113, 140, 13, 290, 544, 2]\n",
      "[   1    8   35 2349    9  121  237    7   89   63  284   56  129   20]\n",
      "Input: i want to clean the house before my parents return\n",
      "Predicted translation: ['<start> मैं अपने पापामम्मी के वापस आने से पहले घर साफ़ करना चाहता हूँ']\n"
     ]
    }
   ],
   "source": [
    "translate(\"i want to clean the house before my parents return\")"
   ]
  },
  {
   "cell_type": "code",
   "execution_count": 66,
   "id": "_ZLuEVwhPank",
   "metadata": {
    "colab": {
     "base_uri": "https://localhost:8080/"
    },
    "id": "_ZLuEVwhPank",
    "outputId": "6d8ac257-fb0b-414a-dc58-55bc30871bc1"
   },
   "outputs": [
    {
     "name": "stdout",
     "output_type": "stream",
     "text": [
      "the man who is standing there is my father\n",
      "[[3, 86, 126, 8, 428, 43, 8, 13, 67]]\n",
      "[1, 3, 86, 126, 8, 428, 43, 8, 13, 67, 2]\n",
      "[  1 140  18 680 111  99  27 226  11]\n",
      "Input: the man who is standing there is my father\n",
      "Predicted translation: ['<start> वहाँ पर खड़े हुए वे मेरे पिता हैं']\n"
     ]
    }
   ],
   "source": [
    "translate(\"the man who is standing there is my father\")"
   ]
  },
  {
   "cell_type": "code",
   "execution_count": 124,
   "id": "2INzIksiPdKT",
   "metadata": {
    "colab": {
     "base_uri": "https://localhost:8080/"
    },
    "id": "2INzIksiPdKT",
    "outputId": "d84b3322-1ed2-4acd-fd27-939b183bacba"
   },
   "outputs": [
    {
     "name": "stdout",
     "output_type": "stream",
     "text": [
      "i like watching tv after dinner\n",
      "[[5, 35, 368, 318, 209, 333]]\n",
      "[1, 5, 35, 368, 318, 209, 333, 2]\n",
      "[  1  12 161  10 136 219   9 230  14 131  16]\n",
      "Input: i like watching tv after dinner\n",
      "Predicted translation: ['<start> मुझे रात को खाना खाने के बाद क्या करते हो']\n"
     ]
    }
   ],
   "source": [
    "translate(\"i like watching tv after dinner\")"
   ]
  }
 ],
 "metadata": {
  "accelerator": "GPU",
  "colab": {
   "gpuType": "T4",
   "provenance": []
  },
  "kernelspec": {
   "display_name": "Python 3 (ipykernel)",
   "language": "python",
   "name": "python3"
  },
  "language_info": {
   "codemirror_mode": {
    "name": "ipython",
    "version": 3
   },
   "file_extension": ".py",
   "mimetype": "text/x-python",
   "name": "python",
   "nbconvert_exporter": "python",
   "pygments_lexer": "ipython3",
   "version": "3.11.5"
  }
 },
 "nbformat": 4,
 "nbformat_minor": 5
}
